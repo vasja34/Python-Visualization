{
 "cells": [
  {
   "cell_type": "markdown",
   "metadata": {},
   "source": [
    "# Time-Series Visualization using bokeh/plotly - Neerja Doshi\n",
    "For this assignment, Bokeh has been used as the package for creating plots."
   ]
  },
  {
   "cell_type": "code",
   "execution_count": 6,
   "metadata": {},
   "outputs": [],
   "source": [
    "# import packages\n",
    "import pandas as pd\n",
    "import numpy as np\n",
    "from bokeh.plotting import figure, show, output_file, output_notebook\n",
    "from bokeh.palettes import Spectral11, colorblind, Inferno, BuGn, brewer\n",
    "import datetime\n",
    "# from bokeh.charts import HeatMap\n",
    "from bokeh.models import HoverTool, value, LabelSet, Legend, ColumnDataSource,LinearColorMapper,BasicTicker, PrintfTickFormatter, ColorBar"
   ]
  },
  {
   "cell_type": "code",
   "execution_count": 7,
   "metadata": {},
   "outputs": [
    {
     "data": {
      "text/html": [
       "<div>\n",
       "<style scoped>\n",
       "    .dataframe tbody tr th:only-of-type {\n",
       "        vertical-align: middle;\n",
       "    }\n",
       "\n",
       "    .dataframe tbody tr th {\n",
       "        vertical-align: top;\n",
       "    }\n",
       "\n",
       "    .dataframe thead th {\n",
       "        text-align: right;\n",
       "    }\n",
       "</style>\n",
       "<table border=\"1\" class=\"dataframe\">\n",
       "  <thead>\n",
       "    <tr style=\"text-align: right;\">\n",
       "      <th></th>\n",
       "      <th>Date</th>\n",
       "      <th>Category</th>\n",
       "      <th>IncidntNum</th>\n",
       "    </tr>\n",
       "  </thead>\n",
       "  <tbody>\n",
       "    <tr>\n",
       "      <th>0</th>\n",
       "      <td>2014-02-01</td>\n",
       "      <td>BURGLARY</td>\n",
       "      <td>506</td>\n",
       "    </tr>\n",
       "    <tr>\n",
       "      <th>1</th>\n",
       "      <td>2007-02-01</td>\n",
       "      <td>VANDALISM</td>\n",
       "      <td>531</td>\n",
       "    </tr>\n",
       "    <tr>\n",
       "      <th>2</th>\n",
       "      <td>2012-07-01</td>\n",
       "      <td>BURGLARY</td>\n",
       "      <td>522</td>\n",
       "    </tr>\n",
       "    <tr>\n",
       "      <th>3</th>\n",
       "      <td>2013-07-01</td>\n",
       "      <td>LARCENY/THEFT</td>\n",
       "      <td>3318</td>\n",
       "    </tr>\n",
       "    <tr>\n",
       "      <th>4</th>\n",
       "      <td>2010-08-01</td>\n",
       "      <td>VANDALISM</td>\n",
       "      <td>694</td>\n",
       "    </tr>\n",
       "  </tbody>\n",
       "</table>\n",
       "</div>"
      ],
      "text/plain": [
       "        Date       Category  IncidntNum\n",
       "0 2014-02-01       BURGLARY         506\n",
       "1 2007-02-01      VANDALISM         531\n",
       "2 2012-07-01       BURGLARY         522\n",
       "3 2013-07-01  LARCENY/THEFT        3318\n",
       "4 2010-08-01      VANDALISM         694"
      ]
     },
     "execution_count": 7,
     "metadata": {},
     "output_type": "execute_result"
    }
   ],
   "source": [
    "# Load the data\n",
    "data = pd.read_csv('../datasets/Monthly_Property_Crime_2005_to_2015.csv', parse_dates=['Date'])\n",
    "data.head()"
   ]
  },
  {
   "cell_type": "code",
   "execution_count": 8,
   "metadata": {},
   "outputs": [
    {
     "data": {
      "text/plain": [
       "(Timestamp('2005-01-01 00:00:00'), Timestamp('2015-12-01 00:00:00'))"
      ]
     },
     "execution_count": 8,
     "metadata": {},
     "output_type": "execute_result"
    }
   ],
   "source": [
    "data.Date.min(), data.Date.max()"
   ]
  },
  {
   "cell_type": "code",
   "execution_count": 9,
   "metadata": {},
   "outputs": [
    {
     "data": {
      "text/plain": [
       "BURGLARY           132\n",
       "VANDALISM          132\n",
       "LARCENY/THEFT      132\n",
       "VEHICLE THEFT      132\n",
       "STOLEN PROPERTY    132\n",
       "ARSON              132\n",
       "Name: Category, dtype: int64"
      ]
     },
     "execution_count": 9,
     "metadata": {},
     "output_type": "execute_result"
    }
   ],
   "source": [
    "data.Category.value_counts()"
   ]
  },
  {
   "cell_type": "code",
   "execution_count": 10,
   "metadata": {},
   "outputs": [
    {
     "data": {
      "text/html": [
       "<div>\n",
       "<style scoped>\n",
       "    .dataframe tbody tr th:only-of-type {\n",
       "        vertical-align: middle;\n",
       "    }\n",
       "\n",
       "    .dataframe tbody tr th {\n",
       "        vertical-align: top;\n",
       "    }\n",
       "\n",
       "    .dataframe thead th {\n",
       "        text-align: right;\n",
       "    }\n",
       "</style>\n",
       "<table border=\"1\" class=\"dataframe\">\n",
       "  <thead>\n",
       "    <tr style=\"text-align: right;\">\n",
       "      <th></th>\n",
       "      <th>Date</th>\n",
       "      <th>Category</th>\n",
       "      <th>IncidntNum</th>\n",
       "      <th>Year</th>\n",
       "      <th>Month</th>\n",
       "    </tr>\n",
       "  </thead>\n",
       "  <tbody>\n",
       "    <tr>\n",
       "      <th>0</th>\n",
       "      <td>2014-02-01</td>\n",
       "      <td>BURGLARY</td>\n",
       "      <td>506</td>\n",
       "      <td>2014</td>\n",
       "      <td>2</td>\n",
       "    </tr>\n",
       "    <tr>\n",
       "      <th>1</th>\n",
       "      <td>2007-02-01</td>\n",
       "      <td>VANDALISM</td>\n",
       "      <td>531</td>\n",
       "      <td>2007</td>\n",
       "      <td>2</td>\n",
       "    </tr>\n",
       "    <tr>\n",
       "      <th>2</th>\n",
       "      <td>2012-07-01</td>\n",
       "      <td>BURGLARY</td>\n",
       "      <td>522</td>\n",
       "      <td>2012</td>\n",
       "      <td>7</td>\n",
       "    </tr>\n",
       "    <tr>\n",
       "      <th>3</th>\n",
       "      <td>2013-07-01</td>\n",
       "      <td>LARCENY/THEFT</td>\n",
       "      <td>3318</td>\n",
       "      <td>2013</td>\n",
       "      <td>7</td>\n",
       "    </tr>\n",
       "    <tr>\n",
       "      <th>4</th>\n",
       "      <td>2010-08-01</td>\n",
       "      <td>VANDALISM</td>\n",
       "      <td>694</td>\n",
       "      <td>2010</td>\n",
       "      <td>8</td>\n",
       "    </tr>\n",
       "  </tbody>\n",
       "</table>\n",
       "</div>"
      ],
      "text/plain": [
       "        Date       Category  IncidntNum  Year  Month\n",
       "0 2014-02-01       BURGLARY         506  2014      2\n",
       "1 2007-02-01      VANDALISM         531  2007      2\n",
       "2 2012-07-01       BURGLARY         522  2012      7\n",
       "3 2013-07-01  LARCENY/THEFT        3318  2013      7\n",
       "4 2010-08-01      VANDALISM         694  2010      8"
      ]
     },
     "execution_count": 10,
     "metadata": {},
     "output_type": "execute_result"
    }
   ],
   "source": [
    "data['Year'] = data.Date.apply(lambda x: x.year)\n",
    "data['Month'] = data.Date.apply(lambda x: x.month)\n",
    "data.head()"
   ]
  },
  {
   "cell_type": "code",
   "execution_count": 11,
   "metadata": {},
   "outputs": [
    {
     "data": {
      "text/html": [
       "<div>\n",
       "<style scoped>\n",
       "    .dataframe tbody tr th:only-of-type {\n",
       "        vertical-align: middle;\n",
       "    }\n",
       "\n",
       "    .dataframe tbody tr th {\n",
       "        vertical-align: top;\n",
       "    }\n",
       "\n",
       "    .dataframe thead th {\n",
       "        text-align: right;\n",
       "    }\n",
       "</style>\n",
       "<table border=\"1\" class=\"dataframe\">\n",
       "  <thead>\n",
       "    <tr style=\"text-align: right;\">\n",
       "      <th></th>\n",
       "      <th>Date</th>\n",
       "      <th>Category</th>\n",
       "      <th>IncidntNum</th>\n",
       "      <th>Year</th>\n",
       "      <th>Month</th>\n",
       "    </tr>\n",
       "  </thead>\n",
       "  <tbody>\n",
       "    <tr>\n",
       "      <th>198</th>\n",
       "      <td>2005-01-01</td>\n",
       "      <td>ARSON</td>\n",
       "      <td>21</td>\n",
       "      <td>2005</td>\n",
       "      <td>1</td>\n",
       "    </tr>\n",
       "    <tr>\n",
       "      <th>215</th>\n",
       "      <td>2005-02-01</td>\n",
       "      <td>ARSON</td>\n",
       "      <td>17</td>\n",
       "      <td>2005</td>\n",
       "      <td>2</td>\n",
       "    </tr>\n",
       "    <tr>\n",
       "      <th>36</th>\n",
       "      <td>2005-03-01</td>\n",
       "      <td>ARSON</td>\n",
       "      <td>19</td>\n",
       "      <td>2005</td>\n",
       "      <td>3</td>\n",
       "    </tr>\n",
       "    <tr>\n",
       "      <th>313</th>\n",
       "      <td>2005-04-01</td>\n",
       "      <td>ARSON</td>\n",
       "      <td>24</td>\n",
       "      <td>2005</td>\n",
       "      <td>4</td>\n",
       "    </tr>\n",
       "    <tr>\n",
       "      <th>261</th>\n",
       "      <td>2005-05-01</td>\n",
       "      <td>ARSON</td>\n",
       "      <td>13</td>\n",
       "      <td>2005</td>\n",
       "      <td>5</td>\n",
       "    </tr>\n",
       "  </tbody>\n",
       "</table>\n",
       "</div>"
      ],
      "text/plain": [
       "          Date Category  IncidntNum  Year  Month\n",
       "198 2005-01-01    ARSON          21  2005      1\n",
       "215 2005-02-01    ARSON          17  2005      2\n",
       "36  2005-03-01    ARSON          19  2005      3\n",
       "313 2005-04-01    ARSON          24  2005      4\n",
       "261 2005-05-01    ARSON          13  2005      5"
      ]
     },
     "execution_count": 11,
     "metadata": {},
     "output_type": "execute_result"
    }
   ],
   "source": [
    "burglary = data[data.Category == 'BURGLARY'].sort_values(['Date'])\n",
    "stolen_property = data[data.Category == 'STOLEN PROPERTY'].sort_values(['Date'])\n",
    "vehicle_theft = data[data.Category == 'VEHICLE THEFT'].sort_values(['Date'])\n",
    "vandalism = data[data.Category == 'VANDALISM'].sort_values(['Date'])\n",
    "larceny = data[data.Category == 'LARCENY/THEFT'].sort_values(['Date'])\n",
    "arson = data[data.Category == 'ARSON'].sort_values(['Date'])\n",
    "arson.head()"
   ]
  },
  {
   "cell_type": "code",
   "execution_count": 12,
   "metadata": {},
   "outputs": [
    {
     "data": {
      "text/html": [
       "<div class=\"bk-root\">\n",
       "        <a href=\"https://bokeh.org\" target=\"_blank\" class=\"bk-logo bk-logo-small bk-logo-notebook\"></a>\n",
       "        <span id=\"1002\">Loading BokehJS ...</span>\n",
       "    </div>\n"
      ]
     },
     "metadata": {},
     "output_type": "display_data"
    },
    {
     "data": {
      "application/javascript": "(function(root) {\n  function now() {\n    return new Date();\n  }\n\n  const force = true;\n\n  if (typeof root._bokeh_onload_callbacks === \"undefined\" || force === true) {\n    root._bokeh_onload_callbacks = [];\n    root._bokeh_is_loading = undefined;\n  }\n\nconst JS_MIME_TYPE = 'application/javascript';\n  const HTML_MIME_TYPE = 'text/html';\n  const EXEC_MIME_TYPE = 'application/vnd.bokehjs_exec.v0+json';\n  const CLASS_NAME = 'output_bokeh rendered_html';\n\n  /**\n   * Render data to the DOM node\n   */\n  function render(props, node) {\n    const script = document.createElement(\"script\");\n    node.appendChild(script);\n  }\n\n  /**\n   * Handle when an output is cleared or removed\n   */\n  function handleClearOutput(event, handle) {\n    const cell = handle.cell;\n\n    const id = cell.output_area._bokeh_element_id;\n    const server_id = cell.output_area._bokeh_server_id;\n    // Clean up Bokeh references\n    if (id != null && id in Bokeh.index) {\n      Bokeh.index[id].model.document.clear();\n      delete Bokeh.index[id];\n    }\n\n    if (server_id !== undefined) {\n      // Clean up Bokeh references\n      const cmd_clean = \"from bokeh.io.state import curstate; print(curstate().uuid_to_server['\" + server_id + \"'].get_sessions()[0].document.roots[0]._id)\";\n      cell.notebook.kernel.execute(cmd_clean, {\n        iopub: {\n          output: function(msg) {\n            const id = msg.content.text.trim();\n            if (id in Bokeh.index) {\n              Bokeh.index[id].model.document.clear();\n              delete Bokeh.index[id];\n            }\n          }\n        }\n      });\n      // Destroy server and session\n      const cmd_destroy = \"import bokeh.io.notebook as ion; ion.destroy_server('\" + server_id + \"')\";\n      cell.notebook.kernel.execute(cmd_destroy);\n    }\n  }\n\n  /**\n   * Handle when a new output is added\n   */\n  function handleAddOutput(event, handle) {\n    const output_area = handle.output_area;\n    const output = handle.output;\n\n    // limit handleAddOutput to display_data with EXEC_MIME_TYPE content only\n    if ((output.output_type != \"display_data\") || (!Object.prototype.hasOwnProperty.call(output.data, EXEC_MIME_TYPE))) {\n      return\n    }\n\n    const toinsert = output_area.element.find(\".\" + CLASS_NAME.split(' ')[0]);\n\n    if (output.metadata[EXEC_MIME_TYPE][\"id\"] !== undefined) {\n      toinsert[toinsert.length - 1].firstChild.textContent = output.data[JS_MIME_TYPE];\n      // store reference to embed id on output_area\n      output_area._bokeh_element_id = output.metadata[EXEC_MIME_TYPE][\"id\"];\n    }\n    if (output.metadata[EXEC_MIME_TYPE][\"server_id\"] !== undefined) {\n      const bk_div = document.createElement(\"div\");\n      bk_div.innerHTML = output.data[HTML_MIME_TYPE];\n      const script_attrs = bk_div.children[0].attributes;\n      for (let i = 0; i < script_attrs.length; i++) {\n        toinsert[toinsert.length - 1].firstChild.setAttribute(script_attrs[i].name, script_attrs[i].value);\n        toinsert[toinsert.length - 1].firstChild.textContent = bk_div.children[0].textContent\n      }\n      // store reference to server id on output_area\n      output_area._bokeh_server_id = output.metadata[EXEC_MIME_TYPE][\"server_id\"];\n    }\n  }\n\n  function register_renderer(events, OutputArea) {\n\n    function append_mime(data, metadata, element) {\n      // create a DOM node to render to\n      const toinsert = this.create_output_subarea(\n        metadata,\n        CLASS_NAME,\n        EXEC_MIME_TYPE\n      );\n      this.keyboard_manager.register_events(toinsert);\n      // Render to node\n      const props = {data: data, metadata: metadata[EXEC_MIME_TYPE]};\n      render(props, toinsert[toinsert.length - 1]);\n      element.append(toinsert);\n      return toinsert\n    }\n\n    /* Handle when an output is cleared or removed */\n    events.on('clear_output.CodeCell', handleClearOutput);\n    events.on('delete.Cell', handleClearOutput);\n\n    /* Handle when a new output is added */\n    events.on('output_added.OutputArea', handleAddOutput);\n\n    /**\n     * Register the mime type and append_mime function with output_area\n     */\n    OutputArea.prototype.register_mime_type(EXEC_MIME_TYPE, append_mime, {\n      /* Is output safe? */\n      safe: true,\n      /* Index of renderer in `output_area.display_order` */\n      index: 0\n    });\n  }\n\n  // register the mime type if in Jupyter Notebook environment and previously unregistered\n  if (root.Jupyter !== undefined) {\n    const events = require('base/js/events');\n    const OutputArea = require('notebook/js/outputarea').OutputArea;\n\n    if (OutputArea.prototype.mime_types().indexOf(EXEC_MIME_TYPE) == -1) {\n      register_renderer(events, OutputArea);\n    }\n  }\n  if (typeof (root._bokeh_timeout) === \"undefined\" || force === true) {\n    root._bokeh_timeout = Date.now() + 5000;\n    root._bokeh_failed_load = false;\n  }\n\n  const NB_LOAD_WARNING = {'data': {'text/html':\n     \"<div style='background-color: #fdd'>\\n\"+\n     \"<p>\\n\"+\n     \"BokehJS does not appear to have successfully loaded. If loading BokehJS from CDN, this \\n\"+\n     \"may be due to a slow or bad network connection. Possible fixes:\\n\"+\n     \"</p>\\n\"+\n     \"<ul>\\n\"+\n     \"<li>re-rerun `output_notebook()` to attempt to load from CDN again, or</li>\\n\"+\n     \"<li>use INLINE resources instead, as so:</li>\\n\"+\n     \"</ul>\\n\"+\n     \"<code>\\n\"+\n     \"from bokeh.resources import INLINE\\n\"+\n     \"output_notebook(resources=INLINE)\\n\"+\n     \"</code>\\n\"+\n     \"</div>\"}};\n\n  function display_loaded() {\n    const el = document.getElementById(\"1002\");\n    if (el != null) {\n      el.textContent = \"BokehJS is loading...\";\n    }\n    if (root.Bokeh !== undefined) {\n      if (el != null) {\n        el.textContent = \"BokehJS \" + root.Bokeh.version + \" successfully loaded.\";\n      }\n    } else if (Date.now() < root._bokeh_timeout) {\n      setTimeout(display_loaded, 100)\n    }\n  }\n\n  function run_callbacks() {\n    try {\n      root._bokeh_onload_callbacks.forEach(function(callback) {\n        if (callback != null)\n          callback();\n      });\n    } finally {\n      delete root._bokeh_onload_callbacks\n    }\n    console.debug(\"Bokeh: all callbacks have finished\");\n  }\n\n  function load_libs(css_urls, js_urls, callback) {\n    if (css_urls == null) css_urls = [];\n    if (js_urls == null) js_urls = [];\n\n    root._bokeh_onload_callbacks.push(callback);\n    if (root._bokeh_is_loading > 0) {\n      console.debug(\"Bokeh: BokehJS is being loaded, scheduling callback at\", now());\n      return null;\n    }\n    if (js_urls == null || js_urls.length === 0) {\n      run_callbacks();\n      return null;\n    }\n    console.debug(\"Bokeh: BokehJS not loaded, scheduling load and callback at\", now());\n    root._bokeh_is_loading = css_urls.length + js_urls.length;\n\n    function on_load() {\n      root._bokeh_is_loading--;\n      if (root._bokeh_is_loading === 0) {\n        console.debug(\"Bokeh: all BokehJS libraries/stylesheets loaded\");\n        run_callbacks()\n      }\n    }\n\n    function on_error(url) {\n      console.error(\"failed to load \" + url);\n    }\n\n    for (let i = 0; i < css_urls.length; i++) {\n      const url = css_urls[i];\n      const element = document.createElement(\"link\");\n      element.onload = on_load;\n      element.onerror = on_error.bind(null, url);\n      element.rel = \"stylesheet\";\n      element.type = \"text/css\";\n      element.href = url;\n      console.debug(\"Bokeh: injecting link tag for BokehJS stylesheet: \", url);\n      document.body.appendChild(element);\n    }\n\n    for (let i = 0; i < js_urls.length; i++) {\n      const url = js_urls[i];\n      const element = document.createElement('script');\n      element.onload = on_load;\n      element.onerror = on_error.bind(null, url);\n      element.async = false;\n      element.src = url;\n      console.debug(\"Bokeh: injecting script tag for BokehJS library: \", url);\n      document.head.appendChild(element);\n    }\n  };\n\n  function inject_raw_css(css) {\n    const element = document.createElement(\"style\");\n    element.appendChild(document.createTextNode(css));\n    document.body.appendChild(element);\n  }\n\n  const js_urls = [\"https://cdn.bokeh.org/bokeh/release/bokeh-2.4.3.min.js\", \"https://cdn.bokeh.org/bokeh/release/bokeh-gl-2.4.3.min.js\", \"https://cdn.bokeh.org/bokeh/release/bokeh-widgets-2.4.3.min.js\", \"https://cdn.bokeh.org/bokeh/release/bokeh-tables-2.4.3.min.js\", \"https://cdn.bokeh.org/bokeh/release/bokeh-mathjax-2.4.3.min.js\"];\n  const css_urls = [];\n\n  const inline_js = [    function(Bokeh) {\n      Bokeh.set_log_level(\"info\");\n    },\nfunction(Bokeh) {\n    }\n  ];\n\n  function run_inline_js() {\n    if (root.Bokeh !== undefined || force === true) {\n          for (let i = 0; i < inline_js.length; i++) {\n      inline_js[i].call(root, root.Bokeh);\n    }\nif (force === true) {\n        display_loaded();\n      }} else if (Date.now() < root._bokeh_timeout) {\n      setTimeout(run_inline_js, 100);\n    } else if (!root._bokeh_failed_load) {\n      console.log(\"Bokeh: BokehJS failed to load within specified timeout.\");\n      root._bokeh_failed_load = true;\n    } else if (force !== true) {\n      const cell = $(document.getElementById(\"1002\")).parents('.cell').data().cell;\n      cell.output_area.append_execute_result(NB_LOAD_WARNING)\n    }\n  }\n\n  if (root._bokeh_is_loading === 0) {\n    console.debug(\"Bokeh: BokehJS loaded, going straight to plotting\");\n    run_inline_js();\n  } else {\n    load_libs(css_urls, js_urls, function() {\n      console.debug(\"Bokeh: BokehJS plotting callback run at\", now());\n      run_inline_js();\n    });\n  }\n}(window));",
      "application/vnd.bokehjs_load.v0+json": ""
     },
     "metadata": {},
     "output_type": "display_data"
    }
   ],
   "source": [
    "output_notebook()"
   ]
  },
  {
   "cell_type": "markdown",
   "metadata": {},
   "source": [
    "### Bar Chart\n",
    "This is used to analyse the average crimes per month. All the months have between 600-800 average crimes, with February being the least."
   ]
  },
  {
   "cell_type": "code",
   "execution_count": 13,
   "metadata": {},
   "outputs": [
    {
     "data": {
      "text/html": [
       "<div>\n",
       "<style scoped>\n",
       "    .dataframe tbody tr th:only-of-type {\n",
       "        vertical-align: middle;\n",
       "    }\n",
       "\n",
       "    .dataframe tbody tr th {\n",
       "        vertical-align: top;\n",
       "    }\n",
       "\n",
       "    .dataframe thead th {\n",
       "        text-align: right;\n",
       "    }\n",
       "</style>\n",
       "<table border=\"1\" class=\"dataframe\">\n",
       "  <thead>\n",
       "    <tr style=\"text-align: right;\">\n",
       "      <th></th>\n",
       "      <th>Month</th>\n",
       "      <th>IncidntNum</th>\n",
       "      <th>Year</th>\n",
       "    </tr>\n",
       "  </thead>\n",
       "  <tbody>\n",
       "    <tr>\n",
       "      <th>0</th>\n",
       "      <td>1</td>\n",
       "      <td>702.560606</td>\n",
       "      <td>2010.0</td>\n",
       "    </tr>\n",
       "    <tr>\n",
       "      <th>1</th>\n",
       "      <td>2</td>\n",
       "      <td>620.409091</td>\n",
       "      <td>2010.0</td>\n",
       "    </tr>\n",
       "    <tr>\n",
       "      <th>2</th>\n",
       "      <td>3</td>\n",
       "      <td>707.712121</td>\n",
       "      <td>2010.0</td>\n",
       "    </tr>\n",
       "    <tr>\n",
       "      <th>3</th>\n",
       "      <td>4</td>\n",
       "      <td>700.060606</td>\n",
       "      <td>2010.0</td>\n",
       "    </tr>\n",
       "    <tr>\n",
       "      <th>4</th>\n",
       "      <td>5</td>\n",
       "      <td>708.378788</td>\n",
       "      <td>2010.0</td>\n",
       "    </tr>\n",
       "  </tbody>\n",
       "</table>\n",
       "</div>"
      ],
      "text/plain": [
       "   Month  IncidntNum    Year\n",
       "0      1  702.560606  2010.0\n",
       "1      2  620.409091  2010.0\n",
       "2      3  707.712121  2010.0\n",
       "3      4  700.060606  2010.0\n",
       "4      5  708.378788  2010.0"
      ]
     },
     "execution_count": 13,
     "metadata": {},
     "output_type": "execute_result"
    }
   ],
   "source": [
    "temp_df = data.groupby(['Month']).mean().reset_index()\n",
    "temp_df.head()"
   ]
  },
  {
   "cell_type": "code",
   "execution_count": 14,
   "metadata": {},
   "outputs": [
    {
     "data": {
      "text/html": [
       "\n",
       "  <div class=\"bk-root\" id=\"b8ad8584-bf52-4e66-a146-d5638b89b360\" data-root-id=\"1003\"></div>\n"
      ]
     },
     "metadata": {},
     "output_type": "display_data"
    },
    {
     "data": {
      "application/javascript": "(function(root) {\n  function embed_document(root) {\n  const docs_json = {\"b9dce1af-3274-4347-8d38-e8f6e22dc4e6\":{\"defs\":[],\"roots\":{\"references\":[{\"attributes\":{\"below\":[{\"id\":\"1014\"}],\"center\":[{\"id\":\"1017\"},{\"id\":\"1021\"}],\"height\":350,\"left\":[{\"id\":\"1018\"}],\"outline_line_color\":null,\"renderers\":[{\"id\":\"1042\"}],\"title\":{\"id\":\"1004\"},\"toolbar\":{\"id\":\"1030\"},\"toolbar_location\":\"above\",\"x_range\":{\"id\":\"1006\"},\"x_scale\":{\"id\":\"1010\"},\"y_range\":{\"id\":\"1008\"},\"y_scale\":{\"id\":\"1012\"}},\"id\":\"1003\",\"subtype\":\"Figure\",\"type\":\"Plot\"},{\"attributes\":{},\"id\":\"1023\",\"type\":\"SaveTool\"},{\"attributes\":{\"callback\":null,\"tooltips\":[[\"month\",\"@x\"],[\"Number of crimes\",\"@top\"]]},\"id\":\"1022\",\"type\":\"HoverTool\"},{\"attributes\":{\"source\":{\"id\":\"1038\"}},\"id\":\"1043\",\"type\":\"CDSView\"},{\"attributes\":{},\"id\":\"1024\",\"type\":\"PanTool\"},{\"attributes\":{},\"id\":\"1047\",\"type\":\"AllLabels\"},{\"attributes\":{\"fill_alpha\":{\"value\":0.1},\"fill_color\":{\"value\":\"#1f77b4\"},\"hatch_alpha\":{\"value\":0.1},\"line_alpha\":{\"value\":0.1},\"line_color\":{\"value\":\"#1f77b4\"},\"top\":{\"field\":\"top\"},\"width\":{\"value\":0.9},\"x\":{\"field\":\"x\"}},\"id\":\"1040\",\"type\":\"VBar\"},{\"attributes\":{\"data\":{\"top\":{\"__ndarray__\":\"8MEHH3z0hUAXXXTRRWODQMomm2yyHYZA8MEHH3zghUAffPDBByOGQMomm2yyjYVAo4suuuhSh0B88MEHH/yHQMIHH3zwOYdA2WSTTTb5h0Blk0022SiGQPDBBx98DIZA\",\"dtype\":\"float64\",\"order\":\"little\",\"shape\":[12]},\"x\":[1,2,3,4,5,6,7,8,9,10,11,12]},\"selected\":{\"id\":\"1052\"},\"selection_policy\":{\"id\":\"1051\"}},\"id\":\"1038\",\"type\":\"ColumnDataSource\"},{\"attributes\":{\"fill_color\":{\"value\":\"#1f77b4\"},\"line_color\":{\"value\":\"#1f77b4\"},\"top\":{\"field\":\"top\"},\"width\":{\"value\":0.9},\"x\":{\"field\":\"x\"}},\"id\":\"1039\",\"type\":\"VBar\"},{\"attributes\":{\"axis_label\":\"Average Crimes\",\"coordinates\":null,\"formatter\":{\"id\":\"1046\"},\"group\":null,\"major_label_policy\":{\"id\":\"1047\"},\"minor_tick_line_color\":null,\"ticker\":{\"id\":\"1019\"}},\"id\":\"1018\",\"type\":\"LinearAxis\"},{\"attributes\":{\"bottom_units\":\"screen\",\"coordinates\":null,\"fill_alpha\":0.5,\"fill_color\":\"lightgrey\",\"group\":null,\"left_units\":\"screen\",\"level\":\"overlay\",\"line_alpha\":1.0,\"line_color\":\"black\",\"line_dash\":[4,4],\"line_width\":2,\"right_units\":\"screen\",\"syncable\":false,\"top_units\":\"screen\"},\"id\":\"1029\",\"type\":\"BoxAnnotation\"},{\"attributes\":{\"coordinates\":null,\"data_source\":{\"id\":\"1038\"},\"glyph\":{\"id\":\"1039\"},\"group\":null,\"hover_glyph\":null,\"muted_glyph\":{\"id\":\"1041\"},\"nonselection_glyph\":{\"id\":\"1040\"},\"view\":{\"id\":\"1043\"}},\"id\":\"1042\",\"type\":\"GlyphRenderer\"},{\"attributes\":{\"overlay\":{\"id\":\"1029\"}},\"id\":\"1025\",\"type\":\"BoxZoomTool\"},{\"attributes\":{},\"id\":\"1019\",\"type\":\"BasicTicker\"},{\"attributes\":{\"axis\":{\"id\":\"1014\"},\"coordinates\":null,\"grid_line_color\":null,\"group\":null,\"ticker\":null},\"id\":\"1017\",\"type\":\"Grid\"},{\"attributes\":{\"tools\":[{\"id\":\"1022\"},{\"id\":\"1023\"},{\"id\":\"1024\"},{\"id\":\"1025\"},{\"id\":\"1026\"},{\"id\":\"1027\"},{\"id\":\"1028\"}]},\"id\":\"1030\",\"type\":\"Toolbar\"},{\"attributes\":{},\"id\":\"1051\",\"type\":\"UnionRenderers\"},{\"attributes\":{\"callback\":null},\"id\":\"1028\",\"type\":\"TapTool\"},{\"attributes\":{},\"id\":\"1027\",\"type\":\"WheelZoomTool\"},{\"attributes\":{},\"id\":\"1026\",\"type\":\"ResetTool\"},{\"attributes\":{},\"id\":\"1015\",\"type\":\"BasicTicker\"},{\"attributes\":{\"axis_label\":\"Month\",\"coordinates\":null,\"formatter\":{\"id\":\"1049\"},\"group\":null,\"major_label_policy\":{\"id\":\"1050\"},\"minor_tick_line_color\":null,\"ticker\":{\"id\":\"1015\"}},\"id\":\"1014\",\"type\":\"LinearAxis\"},{\"attributes\":{},\"id\":\"1006\",\"type\":\"DataRange1d\"},{\"attributes\":{},\"id\":\"1010\",\"type\":\"LinearScale\"},{\"attributes\":{},\"id\":\"1052\",\"type\":\"Selection\"},{\"attributes\":{},\"id\":\"1049\",\"type\":\"BasicTickFormatter\"},{\"attributes\":{\"fill_alpha\":{\"value\":0.2},\"fill_color\":{\"value\":\"#1f77b4\"},\"hatch_alpha\":{\"value\":0.2},\"line_alpha\":{\"value\":0.2},\"line_color\":{\"value\":\"#1f77b4\"},\"top\":{\"field\":\"top\"},\"width\":{\"value\":0.9},\"x\":{\"field\":\"x\"}},\"id\":\"1041\",\"type\":\"VBar\"},{\"attributes\":{},\"id\":\"1046\",\"type\":\"BasicTickFormatter\"},{\"attributes\":{},\"id\":\"1050\",\"type\":\"AllLabels\"},{\"attributes\":{\"axis\":{\"id\":\"1018\"},\"coordinates\":null,\"dimension\":1,\"group\":null,\"ticker\":null},\"id\":\"1021\",\"type\":\"Grid\"},{\"attributes\":{},\"id\":\"1012\",\"type\":\"LinearScale\"},{\"attributes\":{\"coordinates\":null,\"group\":null,\"text\":\"Average Number of Crimes by Month\"},\"id\":\"1004\",\"type\":\"Title\"},{\"attributes\":{\"start\":0},\"id\":\"1008\",\"type\":\"DataRange1d\"}],\"root_ids\":[\"1003\"]},\"title\":\"Bokeh Application\",\"version\":\"2.4.3\"}};\n  const render_items = [{\"docid\":\"b9dce1af-3274-4347-8d38-e8f6e22dc4e6\",\"root_ids\":[\"1003\"],\"roots\":{\"1003\":\"b8ad8584-bf52-4e66-a146-d5638b89b360\"}}];\n  root.Bokeh.embed.embed_items_notebook(docs_json, render_items);\n  }\n  if (root.Bokeh !== undefined) {\n    embed_document(root);\n  } else {\n    let attempts = 0;\n    const timer = setInterval(function(root) {\n      if (root.Bokeh !== undefined) {\n        clearInterval(timer);\n        embed_document(root);\n      } else {\n        attempts++;\n        if (attempts > 100) {\n          clearInterval(timer);\n          console.log(\"Bokeh: ERROR: Unable to run BokehJS code because BokehJS library is missing\");\n        }\n      }\n    }, 10, root)\n  }\n})(window);",
      "application/vnd.bokehjs_exec.v0+json": ""
     },
     "metadata": {
      "application/vnd.bokehjs_exec.v0+json": {
       "id": "1003"
      }
     },
     "output_type": "display_data"
    }
   ],
   "source": [
    "TOOLS = \"hover,save,pan,box_zoom,reset,wheel_zoom,tap\"\n",
    "p = figure(plot_height=350,\n",
    "#     plot_width=1000,\n",
    "    title=\"Average Number of Crimes by Month\",\n",
    "    tools=TOOLS,\n",
    "    toolbar_location='above')\n",
    "\n",
    "p.vbar(x=temp_df.Month, top=temp_df.IncidntNum, width=0.9)\n",
    "\n",
    "p.y_range.start = 0\n",
    "p.x_range.range_padding = 0.1\n",
    "p.xgrid.grid_line_color = None\n",
    "p.axis.minor_tick_line_color = None\n",
    "p.outline_line_color = None\n",
    "p.xaxis.axis_label = 'Month'\n",
    "p.yaxis.axis_label = 'Average Crimes'\n",
    "p.select_one(HoverTool).tooltips = [\n",
    "    ('month', '@x'),\n",
    "    ('Number of crimes', '@top'),\n",
    "]\n",
    "output_file(\"barchart.html\", title=\"barchart\")\n",
    "show(p)"
   ]
  },
  {
   "cell_type": "markdown",
   "metadata": {},
   "source": [
    "### Line Chart\n",
    "This plot shows the trend in number of crimes over the years. It can be seen that the crime rate decreased from 2005-2010, with 2010 having the lowest crime rate. From then on, it has kept increasing steadily with 2015 having the highest number of crimes."
   ]
  },
  {
   "cell_type": "code",
   "execution_count": 15,
   "metadata": {},
   "outputs": [
    {
     "data": {
      "text/html": [
       "<div>\n",
       "<style scoped>\n",
       "    .dataframe tbody tr th:only-of-type {\n",
       "        vertical-align: middle;\n",
       "    }\n",
       "\n",
       "    .dataframe tbody tr th {\n",
       "        vertical-align: top;\n",
       "    }\n",
       "\n",
       "    .dataframe thead th {\n",
       "        text-align: right;\n",
       "    }\n",
       "</style>\n",
       "<table border=\"1\" class=\"dataframe\">\n",
       "  <thead>\n",
       "    <tr style=\"text-align: right;\">\n",
       "      <th></th>\n",
       "      <th>Year</th>\n",
       "      <th>IncidntNum</th>\n",
       "      <th>Month</th>\n",
       "    </tr>\n",
       "  </thead>\n",
       "  <tbody>\n",
       "    <tr>\n",
       "      <th>0</th>\n",
       "      <td>2005</td>\n",
       "      <td>58368</td>\n",
       "      <td>468</td>\n",
       "    </tr>\n",
       "    <tr>\n",
       "      <th>1</th>\n",
       "      <td>2006</td>\n",
       "      <td>50150</td>\n",
       "      <td>468</td>\n",
       "    </tr>\n",
       "    <tr>\n",
       "      <th>2</th>\n",
       "      <td>2007</td>\n",
       "      <td>46023</td>\n",
       "      <td>468</td>\n",
       "    </tr>\n",
       "    <tr>\n",
       "      <th>3</th>\n",
       "      <td>2008</td>\n",
       "      <td>45647</td>\n",
       "      <td>468</td>\n",
       "    </tr>\n",
       "    <tr>\n",
       "      <th>4</th>\n",
       "      <td>2009</td>\n",
       "      <td>44633</td>\n",
       "      <td>468</td>\n",
       "    </tr>\n",
       "  </tbody>\n",
       "</table>\n",
       "</div>"
      ],
      "text/plain": [
       "   Year  IncidntNum  Month\n",
       "0  2005       58368    468\n",
       "1  2006       50150    468\n",
       "2  2007       46023    468\n",
       "3  2008       45647    468\n",
       "4  2009       44633    468"
      ]
     },
     "execution_count": 15,
     "metadata": {},
     "output_type": "execute_result"
    }
   ],
   "source": [
    "temp_df = data.groupby(['Year']).sum().reset_index()\n",
    "temp_df.head()"
   ]
  },
  {
   "cell_type": "code",
   "execution_count": 16,
   "metadata": {
    "scrolled": true
   },
   "outputs": [
    {
     "data": {
      "text/html": [
       "\n",
       "  <div class=\"bk-root\" id=\"0528c86c-593b-4065-835d-e35fa53ed35e\" data-root-id=\"1235\"></div>\n"
      ]
     },
     "metadata": {},
     "output_type": "display_data"
    },
    {
     "data": {
      "application/javascript": "(function(root) {\n  function embed_document(root) {\n  const docs_json = {\"d88e547b-6295-489a-8f2c-73aa203b7638\":{\"defs\":[],\"roots\":{\"references\":[{\"attributes\":{\"below\":[{\"id\":\"1246\"}],\"center\":[{\"id\":\"1249\"},{\"id\":\"1253\"}],\"height\":400,\"left\":[{\"id\":\"1250\"}],\"renderers\":[{\"id\":\"1272\"},{\"id\":\"1278\"}],\"title\":{\"id\":\"1236\"},\"toolbar\":{\"id\":\"1261\"},\"width\":800,\"x_range\":{\"id\":\"1238\"},\"x_scale\":{\"id\":\"1242\"},\"y_range\":{\"id\":\"1240\"},\"y_scale\":{\"id\":\"1244\"}},\"id\":\"1235\",\"subtype\":\"Figure\",\"type\":\"Plot\"},{\"attributes\":{\"coordinates\":null,\"data_source\":{\"id\":\"1274\"},\"glyph\":{\"id\":\"1275\"},\"group\":null,\"hover_glyph\":null,\"muted_glyph\":{\"id\":\"1277\"},\"nonselection_glyph\":{\"id\":\"1276\"},\"view\":{\"id\":\"1279\"}},\"id\":\"1278\",\"type\":\"GlyphRenderer\"},{\"attributes\":{},\"id\":\"1238\",\"type\":\"DataRange1d\"},{\"attributes\":{\"line_color\":\"purple\",\"line_width\":3,\"x\":{\"field\":\"x\"},\"y\":{\"field\":\"y\"}},\"id\":\"1275\",\"type\":\"Line\"},{\"attributes\":{\"bottom_units\":\"screen\",\"coordinates\":null,\"fill_alpha\":0.5,\"fill_color\":\"lightgrey\",\"group\":null,\"left_units\":\"screen\",\"level\":\"overlay\",\"line_alpha\":1.0,\"line_color\":\"black\",\"line_dash\":[4,4],\"line_width\":2,\"right_units\":\"screen\",\"syncable\":false,\"top_units\":\"screen\"},\"id\":\"1260\",\"type\":\"BoxAnnotation\"},{\"attributes\":{},\"id\":\"1258\",\"type\":\"WheelZoomTool\"},{\"attributes\":{},\"id\":\"1288\",\"type\":\"Selection\"},{\"attributes\":{},\"id\":\"1257\",\"type\":\"ResetTool\"},{\"attributes\":{},\"id\":\"1254\",\"type\":\"SaveTool\"},{\"attributes\":{\"data\":{\"x\":[2005,2006,2007,2008,2009,2010,2011,2012,2013,2014,2015],\"y\":[58368,50150,46023,45647,44633,42581,43885,52379,57241,59679,64887]},\"selected\":{\"id\":\"1290\"},\"selection_policy\":{\"id\":\"1289\"}},\"id\":\"1274\",\"type\":\"ColumnDataSource\"},{\"attributes\":{\"source\":{\"id\":\"1268\"}},\"id\":\"1273\",\"type\":\"CDSView\"},{\"attributes\":{\"coordinates\":null,\"data_source\":{\"id\":\"1268\"},\"glyph\":{\"id\":\"1269\"},\"group\":null,\"hover_glyph\":null,\"muted_glyph\":{\"id\":\"1271\"},\"nonselection_glyph\":{\"id\":\"1270\"},\"view\":{\"id\":\"1273\"}},\"id\":\"1272\",\"type\":\"GlyphRenderer\"},{\"attributes\":{},\"id\":\"1283\",\"type\":\"AllLabels\"},{\"attributes\":{},\"id\":\"1286\",\"type\":\"AllLabels\"},{\"attributes\":{\"tools\":[{\"id\":\"1254\"},{\"id\":\"1255\"},{\"id\":\"1256\"},{\"id\":\"1257\"},{\"id\":\"1258\"},{\"id\":\"1259\"}]},\"id\":\"1261\",\"type\":\"Toolbar\"},{\"attributes\":{\"coordinates\":null,\"group\":null,\"text\":\"Year-wise total number of crimes\"},\"id\":\"1236\",\"type\":\"Title\"},{\"attributes\":{\"fill_color\":{\"value\":\"red\"},\"hatch_color\":{\"value\":\"red\"},\"line_color\":{\"value\":\"red\"},\"size\":{\"value\":10},\"x\":{\"value\":2010},\"y\":{\"value\":42581}},\"id\":\"1269\",\"type\":\"Circle\"},{\"attributes\":{},\"id\":\"1240\",\"type\":\"DataRange1d\"},{\"attributes\":{\"overlay\":{\"id\":\"1260\"}},\"id\":\"1256\",\"type\":\"BoxZoomTool\"},{\"attributes\":{},\"id\":\"1282\",\"type\":\"BasicTickFormatter\"},{\"attributes\":{\"data\":{},\"selected\":{\"id\":\"1288\"},\"selection_policy\":{\"id\":\"1287\"}},\"id\":\"1268\",\"type\":\"ColumnDataSource\"},{\"attributes\":{\"callback\":null,\"tooltips\":[[\"year\",\"@x\"],[\"Number of crimes\",\"@y\"]]},\"id\":\"1259\",\"type\":\"HoverTool\"},{\"attributes\":{\"axis_label\":\"Year\",\"coordinates\":null,\"formatter\":{\"id\":\"1285\"},\"group\":null,\"major_label_policy\":{\"id\":\"1286\"},\"ticker\":{\"id\":\"1247\"}},\"id\":\"1246\",\"type\":\"LinearAxis\"},{\"attributes\":{\"axis_label\":\"Total Crimes\",\"coordinates\":null,\"formatter\":{\"id\":\"1282\"},\"group\":null,\"major_label_policy\":{\"id\":\"1283\"},\"ticker\":{\"id\":\"1251\"}},\"id\":\"1250\",\"type\":\"LinearAxis\"},{\"attributes\":{},\"id\":\"1242\",\"type\":\"LinearScale\"},{\"attributes\":{\"axis\":{\"id\":\"1246\"},\"coordinates\":null,\"group\":null,\"ticker\":null},\"id\":\"1249\",\"type\":\"Grid\"},{\"attributes\":{},\"id\":\"1247\",\"type\":\"BasicTicker\"},{\"attributes\":{},\"id\":\"1255\",\"type\":\"PanTool\"},{\"attributes\":{},\"id\":\"1244\",\"type\":\"LinearScale\"},{\"attributes\":{},\"id\":\"1290\",\"type\":\"Selection\"},{\"attributes\":{},\"id\":\"1285\",\"type\":\"BasicTickFormatter\"},{\"attributes\":{},\"id\":\"1251\",\"type\":\"BasicTicker\"},{\"attributes\":{\"fill_alpha\":{\"value\":0.2},\"fill_color\":{\"value\":\"red\"},\"hatch_alpha\":{\"value\":0.2},\"hatch_color\":{\"value\":\"red\"},\"line_alpha\":{\"value\":0.2},\"line_color\":{\"value\":\"red\"},\"size\":{\"value\":10},\"x\":{\"value\":2010},\"y\":{\"value\":42581}},\"id\":\"1271\",\"type\":\"Circle\"},{\"attributes\":{},\"id\":\"1289\",\"type\":\"UnionRenderers\"},{\"attributes\":{\"axis\":{\"id\":\"1250\"},\"coordinates\":null,\"dimension\":1,\"group\":null,\"ticker\":null},\"id\":\"1253\",\"type\":\"Grid\"},{\"attributes\":{},\"id\":\"1287\",\"type\":\"UnionRenderers\"},{\"attributes\":{\"line_alpha\":0.1,\"line_color\":\"purple\",\"line_width\":3,\"x\":{\"field\":\"x\"},\"y\":{\"field\":\"y\"}},\"id\":\"1276\",\"type\":\"Line\"},{\"attributes\":{\"fill_alpha\":{\"value\":0.1},\"fill_color\":{\"value\":\"red\"},\"hatch_alpha\":{\"value\":0.1},\"hatch_color\":{\"value\":\"red\"},\"line_alpha\":{\"value\":0.1},\"line_color\":{\"value\":\"red\"},\"size\":{\"value\":10},\"x\":{\"value\":2010},\"y\":{\"value\":42581}},\"id\":\"1270\",\"type\":\"Circle\"},{\"attributes\":{\"source\":{\"id\":\"1274\"}},\"id\":\"1279\",\"type\":\"CDSView\"},{\"attributes\":{\"line_alpha\":0.2,\"line_color\":\"purple\",\"line_width\":3,\"x\":{\"field\":\"x\"},\"y\":{\"field\":\"y\"}},\"id\":\"1277\",\"type\":\"Line\"}],\"root_ids\":[\"1235\"]},\"title\":\"Bokeh Application\",\"version\":\"2.4.3\"}};\n  const render_items = [{\"docid\":\"d88e547b-6295-489a-8f2c-73aa203b7638\",\"root_ids\":[\"1235\"],\"roots\":{\"1235\":\"0528c86c-593b-4065-835d-e35fa53ed35e\"}}];\n  root.Bokeh.embed.embed_items_notebook(docs_json, render_items);\n  }\n  if (root.Bokeh !== undefined) {\n    embed_document(root);\n  } else {\n    let attempts = 0;\n    const timer = setInterval(function(root) {\n      if (root.Bokeh !== undefined) {\n        clearInterval(timer);\n        embed_document(root);\n      } else {\n        attempts++;\n        if (attempts > 100) {\n          clearInterval(timer);\n          console.log(\"Bokeh: ERROR: Unable to run BokehJS code because BokehJS library is missing\");\n        }\n      }\n    }, 10, root)\n  }\n})(window);",
      "application/vnd.bokehjs_exec.v0+json": ""
     },
     "metadata": {
      "application/vnd.bokehjs_exec.v0+json": {
       "id": "1235"
      }
     },
     "output_type": "display_data"
    }
   ],
   "source": [
    "TOOLS = 'save,pan,box_zoom,reset,wheel_zoom,hover'\n",
    "p = figure(title=\"Year-wise total number of crimes\", y_axis_type=\"linear\", plot_height = 400,\n",
    "           tools = TOOLS, plot_width = 800)\n",
    "p.xaxis.axis_label = 'Year'\n",
    "p.yaxis.axis_label = 'Total Crimes'\n",
    "p.circle(2010, temp_df.IncidntNum.min(), size = 10, color = 'red')\n",
    "\n",
    "p.line(temp_df.Year, temp_df.IncidntNum,line_color=\"purple\", line_width = 3)\n",
    "p.select_one(HoverTool).tooltips = [\n",
    "    ('year', '@x'),\n",
    "    ('Number of crimes', '@y'),\n",
    "]\n",
    "\n",
    "output_file(\"line_chart.html\", title=\"Line Chart\")\n",
    "show(p)"
   ]
  },
  {
   "cell_type": "markdown",
   "metadata": {},
   "source": [
    "### Stacked bar chart\n",
    "This chart explores the distribution of crimes among the various categories over the years. In particular, larceny/theft are the most frequently occuring crimes, while stolen property occur the least. 2005 saw a high number of vehicle thefts, which reduced quite a bit subsequently."
   ]
  },
  {
   "cell_type": "code",
   "execution_count": 17,
   "metadata": {
    "scrolled": true
   },
   "outputs": [
    {
     "data": {
      "text/html": [
       "<div>\n",
       "<style scoped>\n",
       "    .dataframe tbody tr th:only-of-type {\n",
       "        vertical-align: middle;\n",
       "    }\n",
       "\n",
       "    .dataframe tbody tr th {\n",
       "        vertical-align: top;\n",
       "    }\n",
       "\n",
       "    .dataframe thead th {\n",
       "        text-align: right;\n",
       "    }\n",
       "</style>\n",
       "<table border=\"1\" class=\"dataframe\">\n",
       "  <thead>\n",
       "    <tr style=\"text-align: right;\">\n",
       "      <th>Category</th>\n",
       "      <th>Year</th>\n",
       "      <th>ARSON</th>\n",
       "      <th>BURGLARY</th>\n",
       "      <th>LARCENY/THEFT</th>\n",
       "      <th>STOLEN PROPERTY</th>\n",
       "      <th>VANDALISM</th>\n",
       "      <th>VEHICLE THEFT</th>\n",
       "    </tr>\n",
       "  </thead>\n",
       "  <tbody>\n",
       "    <tr>\n",
       "      <th>0</th>\n",
       "      <td>2005</td>\n",
       "      <td>231</td>\n",
       "      <td>7071</td>\n",
       "      <td>25319</td>\n",
       "      <td>540</td>\n",
       "      <td>7013</td>\n",
       "      <td>18194</td>\n",
       "    </tr>\n",
       "    <tr>\n",
       "      <th>1</th>\n",
       "      <td>2006</td>\n",
       "      <td>240</td>\n",
       "      <td>7004</td>\n",
       "      <td>27352</td>\n",
       "      <td>575</td>\n",
       "      <td>7688</td>\n",
       "      <td>7291</td>\n",
       "    </tr>\n",
       "    <tr>\n",
       "      <th>2</th>\n",
       "      <td>2007</td>\n",
       "      <td>246</td>\n",
       "      <td>5454</td>\n",
       "      <td>25770</td>\n",
       "      <td>527</td>\n",
       "      <td>7566</td>\n",
       "      <td>6460</td>\n",
       "    </tr>\n",
       "    <tr>\n",
       "      <th>3</th>\n",
       "      <td>2008</td>\n",
       "      <td>248</td>\n",
       "      <td>5679</td>\n",
       "      <td>25807</td>\n",
       "      <td>518</td>\n",
       "      <td>7342</td>\n",
       "      <td>6053</td>\n",
       "    </tr>\n",
       "    <tr>\n",
       "      <th>4</th>\n",
       "      <td>2009</td>\n",
       "      <td>222</td>\n",
       "      <td>5379</td>\n",
       "      <td>25585</td>\n",
       "      <td>660</td>\n",
       "      <td>7604</td>\n",
       "      <td>5183</td>\n",
       "    </tr>\n",
       "  </tbody>\n",
       "</table>\n",
       "</div>"
      ],
      "text/plain": [
       "Category  Year  ARSON  BURGLARY  LARCENY/THEFT  STOLEN PROPERTY  VANDALISM  \\\n",
       "0         2005    231      7071          25319              540       7013   \n",
       "1         2006    240      7004          27352              575       7688   \n",
       "2         2007    246      5454          25770              527       7566   \n",
       "3         2008    248      5679          25807              518       7342   \n",
       "4         2009    222      5379          25585              660       7604   \n",
       "\n",
       "Category  VEHICLE THEFT  \n",
       "0                 18194  \n",
       "1                  7291  \n",
       "2                  6460  \n",
       "3                  6053  \n",
       "4                  5183  "
      ]
     },
     "execution_count": 17,
     "metadata": {},
     "output_type": "execute_result"
    }
   ],
   "source": [
    "wide = data.pivot(index='Date', columns='Category', values='IncidntNum')\n",
    "wide.reset_index(inplace=True)\n",
    "wide['Year'] = wide.Date.apply(lambda x: x.year)\n",
    "wide['Month'] = wide.Date.apply(lambda x: x.month)\n",
    "\n",
    "temp_df = wide.groupby(['Year']).sum().reset_index()\n",
    "temp_df.head()\n",
    "cats = ['ARSON','BURGLARY','LARCENY/THEFT','STOLEN PROPERTY','VANDALISM','VEHICLE THEFT'] \n",
    "temp_df.drop(['Month'], axis = 1, inplace=True)\n",
    "temp_df.head()"
   ]
  },
  {
   "cell_type": "code",
   "execution_count": 18,
   "metadata": {},
   "outputs": [
    {
     "name": "stderr",
     "output_type": "stream",
     "text": [
      "BokehDeprecationWarning: 'legend' keyword is deprecated, use explicit 'legend_label', 'legend_field', or 'legend_group' keywords instead\n",
      "BokehDeprecationWarning: 'legend' keyword is deprecated, use explicit 'legend_label', 'legend_field', or 'legend_group' keywords instead\n",
      "BokehDeprecationWarning: 'legend' keyword is deprecated, use explicit 'legend_label', 'legend_field', or 'legend_group' keywords instead\n",
      "BokehDeprecationWarning: 'legend' keyword is deprecated, use explicit 'legend_label', 'legend_field', or 'legend_group' keywords instead\n",
      "BokehDeprecationWarning: 'legend' keyword is deprecated, use explicit 'legend_label', 'legend_field', or 'legend_group' keywords instead\n",
      "BokehDeprecationWarning: 'legend' keyword is deprecated, use explicit 'legend_label', 'legend_field', or 'legend_group' keywords instead\n"
     ]
    },
    {
     "data": {
      "text/html": [
       "\n",
       "  <div class=\"bk-root\" id=\"e70d392b-5277-4a2a-b09b-8693ba477132\" data-root-id=\"1544\"></div>\n"
      ]
     },
     "metadata": {},
     "output_type": "display_data"
    },
    {
     "data": {
      "application/javascript": "(function(root) {\n  function embed_document(root) {\n  const docs_json = {\"9e3895ef-d164-45a9-a72a-d41e319e47db\":{\"defs\":[],\"roots\":{\"references\":[{\"attributes\":{\"below\":[{\"id\":\"1555\"}],\"center\":[{\"id\":\"1558\"},{\"id\":\"1562\"},{\"id\":\"1605\"}],\"left\":[{\"id\":\"1559\"}],\"outline_line_color\":null,\"renderers\":[{\"id\":\"1593\"},{\"id\":\"1611\"},{\"id\":\"1628\"},{\"id\":\"1645\"},{\"id\":\"1662\"},{\"id\":\"1679\"}],\"title\":{\"id\":\"1545\"},\"toolbar\":{\"id\":\"1570\"},\"toolbar_location\":\"above\",\"width\":800,\"x_range\":{\"id\":\"1547\"},\"x_scale\":{\"id\":\"1551\"},\"y_range\":{\"id\":\"1549\"},\"y_scale\":{\"id\":\"1553\"}},\"id\":\"1544\",\"subtype\":\"Figure\",\"type\":\"Plot\"},{\"attributes\":{\"fields\":[\"ARSON\",\"BURGLARY\",\"LARCENY/THEFT\",\"STOLEN PROPERTY\",\"VANDALISM\",\"VEHICLE THEFT\"]},\"id\":\"1588\",\"type\":\"Stack\"},{\"attributes\":{\"fields\":[\"ARSON\",\"BURGLARY\",\"LARCENY/THEFT\",\"STOLEN PROPERTY\",\"VANDALISM\"]},\"id\":\"1587\",\"type\":\"Stack\"},{\"attributes\":{\"bottom\":{\"expr\":{\"id\":\"1577\"}},\"fill_color\":{\"value\":\"#1b9e77\"},\"hatch_color\":{\"value\":\"#1b9e77\"},\"line_color\":{\"value\":\"#1b9e77\"},\"top\":{\"expr\":{\"id\":\"1578\"}},\"width\":{\"value\":0.9},\"x\":{\"field\":\"Year\"}},\"id\":\"1590\",\"type\":\"VBar\"},{\"attributes\":{\"fields\":[\"ARSON\"]},\"id\":\"1579\",\"type\":\"Stack\"},{\"attributes\":{},\"id\":\"1600\",\"type\":\"BasicTickFormatter\"},{\"attributes\":{\"fields\":[\"ARSON\",\"BURGLARY\",\"LARCENY/THEFT\"]},\"id\":\"1582\",\"type\":\"Stack\"},{\"attributes\":{\"data\":{\"ARSON\":[231,240,246,248,222,209,203,237,248,253,311],\"BURGLARY\":[7071,7004,5454,5679,5379,4966,4987,6243,6195,6066,5931],\"LARCENY/THEFT\":[25319,27352,25770,25807,25585,24446,25905,30976,36412,38003,42068],\"STOLEN PROPERTY\":[540,575,527,518,660,680,785,932,1224,1084,959],\"VANDALISM\":[7013,7688,7566,7342,7604,7934,7243,7808,6921,7165,7675],\"VEHICLE THEFT\":[18194,7291,6460,6053,5183,4346,4762,6183,6241,7108,7943],\"Year\":[2005,2006,2007,2008,2009,2010,2011,2012,2013,2014,2015],\"index\":[0,1,2,3,4,5,6,7,8,9,10]},\"selected\":{\"id\":\"1603\"},\"selection_policy\":{\"id\":\"1602\"}},\"id\":\"1543\",\"type\":\"ColumnDataSource\"},{\"attributes\":{},\"id\":\"1598\",\"type\":\"AllLabels\"},{\"attributes\":{},\"id\":\"1560\",\"type\":\"BasicTicker\"},{\"attributes\":{\"coordinates\":null,\"data_source\":{\"id\":\"1543\"},\"glyph\":{\"id\":\"1625\"},\"group\":null,\"hover_glyph\":null,\"muted_glyph\":{\"id\":\"1627\"},\"name\":\"LARCENY/THEFT\",\"nonselection_glyph\":{\"id\":\"1626\"},\"view\":{\"id\":\"1629\"}},\"id\":\"1628\",\"type\":\"GlyphRenderer\"},{\"attributes\":{},\"id\":\"1597\",\"type\":\"BasicTickFormatter\"},{\"attributes\":{\"coordinates\":null,\"data_source\":{\"id\":\"1543\"},\"glyph\":{\"id\":\"1642\"},\"group\":null,\"hover_glyph\":null,\"muted_glyph\":{\"id\":\"1644\"},\"name\":\"STOLEN PROPERTY\",\"nonselection_glyph\":{\"id\":\"1643\"},\"view\":{\"id\":\"1646\"}},\"id\":\"1645\",\"type\":\"GlyphRenderer\"},{\"attributes\":{\"tools\":[{\"id\":\"1563\"},{\"id\":\"1564\"},{\"id\":\"1565\"},{\"id\":\"1566\"},{\"id\":\"1567\"},{\"id\":\"1568\"}]},\"id\":\"1570\",\"type\":\"Toolbar\"},{\"attributes\":{\"coordinates\":null,\"data_source\":{\"id\":\"1543\"},\"glyph\":{\"id\":\"1659\"},\"group\":null,\"hover_glyph\":null,\"muted_glyph\":{\"id\":\"1661\"},\"name\":\"VANDALISM\",\"nonselection_glyph\":{\"id\":\"1660\"},\"view\":{\"id\":\"1663\"}},\"id\":\"1662\",\"type\":\"GlyphRenderer\"},{\"attributes\":{\"axis\":{\"id\":\"1559\"},\"coordinates\":null,\"dimension\":1,\"group\":null,\"ticker\":null},\"id\":\"1562\",\"type\":\"Grid\"},{\"attributes\":{\"coordinates\":null,\"group\":null,\"items\":[{\"id\":\"1606\"},{\"id\":\"1623\"},{\"id\":\"1640\"},{\"id\":\"1657\"},{\"id\":\"1674\"},{\"id\":\"1691\"}],\"location\":\"top_left\",\"orientation\":\"horizontal\"},\"id\":\"1605\",\"type\":\"Legend\"},{\"attributes\":{},\"id\":\"1551\",\"type\":\"LinearScale\"},{\"attributes\":{\"coordinates\":null,\"data_source\":{\"id\":\"1543\"},\"glyph\":{\"id\":\"1676\"},\"group\":null,\"hover_glyph\":null,\"muted_glyph\":{\"id\":\"1678\"},\"name\":\"VEHICLE THEFT\",\"nonselection_glyph\":{\"id\":\"1677\"},\"view\":{\"id\":\"1680\"}},\"id\":\"1679\",\"type\":\"GlyphRenderer\"},{\"attributes\":{\"bottom\":{\"expr\":{\"id\":\"1581\"}},\"fill_color\":{\"value\":\"#7570b3\"},\"hatch_color\":{\"value\":\"#7570b3\"},\"line_color\":{\"value\":\"#7570b3\"},\"top\":{\"expr\":{\"id\":\"1582\"}},\"width\":{\"value\":0.9},\"x\":{\"field\":\"Year\"}},\"id\":\"1625\",\"type\":\"VBar\"},{\"attributes\":{\"axis\":{\"id\":\"1555\"},\"coordinates\":null,\"grid_line_color\":null,\"group\":null,\"ticker\":null},\"id\":\"1558\",\"type\":\"Grid\"},{\"attributes\":{\"bottom\":{\"expr\":{\"id\":\"1583\"}},\"fill_color\":{\"value\":\"#e7298a\"},\"hatch_color\":{\"value\":\"#e7298a\"},\"line_color\":{\"value\":\"#e7298a\"},\"top\":{\"expr\":{\"id\":\"1584\"}},\"width\":{\"value\":0.9},\"x\":{\"field\":\"Year\"}},\"id\":\"1642\",\"type\":\"VBar\"},{\"attributes\":{},\"id\":\"1601\",\"type\":\"AllLabels\"},{\"attributes\":{},\"id\":\"1553\",\"type\":\"LinearScale\"},{\"attributes\":{\"fields\":[]},\"id\":\"1577\",\"type\":\"Stack\"},{\"attributes\":{\"bottom\":{\"expr\":{\"id\":\"1581\"}},\"fill_alpha\":{\"value\":0.1},\"fill_color\":{\"value\":\"#7570b3\"},\"hatch_alpha\":{\"value\":0.1},\"hatch_color\":{\"value\":\"#7570b3\"},\"line_alpha\":{\"value\":0.1},\"line_color\":{\"value\":\"#7570b3\"},\"top\":{\"expr\":{\"id\":\"1582\"}},\"width\":{\"value\":0.9},\"x\":{\"field\":\"Year\"}},\"id\":\"1626\",\"type\":\"VBar\"},{\"attributes\":{\"label\":{\"value\":\"ARSON\"},\"renderers\":[{\"id\":\"1593\"}]},\"id\":\"1606\",\"type\":\"LegendItem\"},{\"attributes\":{\"bottom\":{\"expr\":{\"id\":\"1583\"}},\"fill_alpha\":{\"value\":0.1},\"fill_color\":{\"value\":\"#e7298a\"},\"hatch_alpha\":{\"value\":0.1},\"hatch_color\":{\"value\":\"#e7298a\"},\"line_alpha\":{\"value\":0.1},\"line_color\":{\"value\":\"#e7298a\"},\"top\":{\"expr\":{\"id\":\"1584\"}},\"width\":{\"value\":0.9},\"x\":{\"field\":\"Year\"}},\"id\":\"1643\",\"type\":\"VBar\"},{\"attributes\":{\"bottom\":{\"expr\":{\"id\":\"1587\"}},\"fill_color\":{\"value\":\"#e6ab02\"},\"hatch_color\":{\"value\":\"#e6ab02\"},\"line_color\":{\"value\":\"#e6ab02\"},\"top\":{\"expr\":{\"id\":\"1588\"}},\"width\":{\"value\":0.9},\"x\":{\"field\":\"Year\"}},\"id\":\"1676\",\"type\":\"VBar\"},{\"attributes\":{\"label\":{\"value\":\"LARCENY/THEFT\"},\"renderers\":[{\"id\":\"1628\"}]},\"id\":\"1640\",\"type\":\"LegendItem\"},{\"attributes\":{\"bottom\":{\"expr\":{\"id\":\"1581\"}},\"fill_alpha\":{\"value\":0.2},\"fill_color\":{\"value\":\"#7570b3\"},\"hatch_alpha\":{\"value\":0.2},\"hatch_color\":{\"value\":\"#7570b3\"},\"line_alpha\":{\"value\":0.2},\"line_color\":{\"value\":\"#7570b3\"},\"top\":{\"expr\":{\"id\":\"1582\"}},\"width\":{\"value\":0.9},\"x\":{\"field\":\"Year\"}},\"id\":\"1627\",\"type\":\"VBar\"},{\"attributes\":{\"coordinates\":null,\"data_source\":{\"id\":\"1543\"},\"glyph\":{\"id\":\"1608\"},\"group\":null,\"hover_glyph\":null,\"muted_glyph\":{\"id\":\"1610\"},\"name\":\"BURGLARY\",\"nonselection_glyph\":{\"id\":\"1609\"},\"view\":{\"id\":\"1612\"}},\"id\":\"1611\",\"type\":\"GlyphRenderer\"},{\"attributes\":{\"label\":{\"value\":\"STOLEN PROPERTY\"},\"renderers\":[{\"id\":\"1645\"}]},\"id\":\"1657\",\"type\":\"LegendItem\"},{\"attributes\":{\"bottom\":{\"expr\":{\"id\":\"1585\"}},\"fill_alpha\":{\"value\":0.1},\"fill_color\":{\"value\":\"#66a61e\"},\"hatch_alpha\":{\"value\":0.1},\"hatch_color\":{\"value\":\"#66a61e\"},\"line_alpha\":{\"value\":0.1},\"line_color\":{\"value\":\"#66a61e\"},\"top\":{\"expr\":{\"id\":\"1586\"}},\"width\":{\"value\":0.9},\"x\":{\"field\":\"Year\"}},\"id\":\"1660\",\"type\":\"VBar\"},{\"attributes\":{\"bottom\":{\"expr\":{\"id\":\"1579\"}},\"fill_color\":{\"value\":\"#d95f02\"},\"hatch_color\":{\"value\":\"#d95f02\"},\"line_color\":{\"value\":\"#d95f02\"},\"top\":{\"expr\":{\"id\":\"1580\"}},\"width\":{\"value\":0.9},\"x\":{\"field\":\"Year\"}},\"id\":\"1608\",\"type\":\"VBar\"},{\"attributes\":{\"bottom\":{\"expr\":{\"id\":\"1583\"}},\"fill_alpha\":{\"value\":0.2},\"fill_color\":{\"value\":\"#e7298a\"},\"hatch_alpha\":{\"value\":0.2},\"hatch_color\":{\"value\":\"#e7298a\"},\"line_alpha\":{\"value\":0.2},\"line_color\":{\"value\":\"#e7298a\"},\"top\":{\"expr\":{\"id\":\"1584\"}},\"width\":{\"value\":0.9},\"x\":{\"field\":\"Year\"}},\"id\":\"1644\",\"type\":\"VBar\"},{\"attributes\":{\"overlay\":{\"id\":\"1569\"}},\"id\":\"1565\",\"type\":\"BoxZoomTool\"},{\"attributes\":{\"coordinates\":null,\"data_source\":{\"id\":\"1543\"},\"glyph\":{\"id\":\"1590\"},\"group\":null,\"hover_glyph\":null,\"muted_glyph\":{\"id\":\"1592\"},\"name\":\"ARSON\",\"nonselection_glyph\":{\"id\":\"1591\"},\"view\":{\"id\":\"1594\"}},\"id\":\"1593\",\"type\":\"GlyphRenderer\"},{\"attributes\":{\"source\":{\"id\":\"1543\"}},\"id\":\"1594\",\"type\":\"CDSView\"},{\"attributes\":{\"bottom\":{\"expr\":{\"id\":\"1587\"}},\"fill_alpha\":{\"value\":0.1},\"fill_color\":{\"value\":\"#e6ab02\"},\"hatch_alpha\":{\"value\":0.1},\"hatch_color\":{\"value\":\"#e6ab02\"},\"line_alpha\":{\"value\":0.1},\"line_color\":{\"value\":\"#e6ab02\"},\"top\":{\"expr\":{\"id\":\"1588\"}},\"width\":{\"value\":0.9},\"x\":{\"field\":\"Year\"}},\"id\":\"1677\",\"type\":\"VBar\"},{\"attributes\":{\"label\":{\"value\":\"VANDALISM\"},\"renderers\":[{\"id\":\"1662\"}]},\"id\":\"1674\",\"type\":\"LegendItem\"},{\"attributes\":{\"fields\":[\"ARSON\",\"BURGLARY\",\"LARCENY/THEFT\"]},\"id\":\"1583\",\"type\":\"Stack\"},{\"attributes\":{\"bottom\":{\"expr\":{\"id\":\"1585\"}},\"fill_alpha\":{\"value\":0.2},\"fill_color\":{\"value\":\"#66a61e\"},\"hatch_alpha\":{\"value\":0.2},\"hatch_color\":{\"value\":\"#66a61e\"},\"line_alpha\":{\"value\":0.2},\"line_color\":{\"value\":\"#66a61e\"},\"top\":{\"expr\":{\"id\":\"1586\"}},\"width\":{\"value\":0.9},\"x\":{\"field\":\"Year\"}},\"id\":\"1661\",\"type\":\"VBar\"},{\"attributes\":{\"bottom_units\":\"screen\",\"coordinates\":null,\"fill_alpha\":0.5,\"fill_color\":\"lightgrey\",\"group\":null,\"left_units\":\"screen\",\"level\":\"overlay\",\"line_alpha\":1.0,\"line_color\":\"black\",\"line_dash\":[4,4],\"line_width\":2,\"right_units\":\"screen\",\"syncable\":false,\"top_units\":\"screen\"},\"id\":\"1569\",\"type\":\"BoxAnnotation\"},{\"attributes\":{\"axis_label\":\"Year\",\"coordinates\":null,\"formatter\":{\"id\":\"1600\"},\"group\":null,\"major_label_policy\":{\"id\":\"1601\"},\"minor_tick_line_color\":null,\"ticker\":{\"id\":\"1556\"}},\"id\":\"1555\",\"type\":\"LinearAxis\"},{\"attributes\":{\"source\":{\"id\":\"1543\"}},\"id\":\"1629\",\"type\":\"CDSView\"},{\"attributes\":{\"bottom\":{\"expr\":{\"id\":\"1577\"}},\"fill_alpha\":{\"value\":0.2},\"fill_color\":{\"value\":\"#1b9e77\"},\"hatch_alpha\":{\"value\":0.2},\"hatch_color\":{\"value\":\"#1b9e77\"},\"line_alpha\":{\"value\":0.2},\"line_color\":{\"value\":\"#1b9e77\"},\"top\":{\"expr\":{\"id\":\"1578\"}},\"width\":{\"value\":0.9},\"x\":{\"field\":\"Year\"}},\"id\":\"1592\",\"type\":\"VBar\"},{\"attributes\":{\"bottom\":{\"expr\":{\"id\":\"1579\"}},\"fill_alpha\":{\"value\":0.1},\"fill_color\":{\"value\":\"#d95f02\"},\"hatch_alpha\":{\"value\":0.1},\"hatch_color\":{\"value\":\"#d95f02\"},\"line_alpha\":{\"value\":0.1},\"line_color\":{\"value\":\"#d95f02\"},\"top\":{\"expr\":{\"id\":\"1580\"}},\"width\":{\"value\":0.9},\"x\":{\"field\":\"Year\"}},\"id\":\"1609\",\"type\":\"VBar\"},{\"attributes\":{\"bottom\":{\"expr\":{\"id\":\"1587\"}},\"fill_alpha\":{\"value\":0.2},\"fill_color\":{\"value\":\"#e6ab02\"},\"hatch_alpha\":{\"value\":0.2},\"hatch_color\":{\"value\":\"#e6ab02\"},\"line_alpha\":{\"value\":0.2},\"line_color\":{\"value\":\"#e6ab02\"},\"top\":{\"expr\":{\"id\":\"1588\"}},\"width\":{\"value\":0.9},\"x\":{\"field\":\"Year\"}},\"id\":\"1678\",\"type\":\"VBar\"},{\"attributes\":{\"source\":{\"id\":\"1543\"}},\"id\":\"1646\",\"type\":\"CDSView\"},{\"attributes\":{},\"id\":\"1563\",\"type\":\"SaveTool\"},{\"attributes\":{},\"id\":\"1564\",\"type\":\"PanTool\"},{\"attributes\":{\"label\":{\"value\":\"BURGLARY\"},\"renderers\":[{\"id\":\"1611\"}]},\"id\":\"1623\",\"type\":\"LegendItem\"},{\"attributes\":{},\"id\":\"1567\",\"type\":\"WheelZoomTool\"},{\"attributes\":{\"fields\":[\"ARSON\",\"BURGLARY\"]},\"id\":\"1581\",\"type\":\"Stack\"},{\"attributes\":{\"bottom\":{\"expr\":{\"id\":\"1579\"}},\"fill_alpha\":{\"value\":0.2},\"fill_color\":{\"value\":\"#d95f02\"},\"hatch_alpha\":{\"value\":0.2},\"hatch_color\":{\"value\":\"#d95f02\"},\"line_alpha\":{\"value\":0.2},\"line_color\":{\"value\":\"#d95f02\"},\"top\":{\"expr\":{\"id\":\"1580\"}},\"width\":{\"value\":0.9},\"x\":{\"field\":\"Year\"}},\"id\":\"1610\",\"type\":\"VBar\"},{\"attributes\":{\"bottom\":{\"expr\":{\"id\":\"1585\"}},\"fill_color\":{\"value\":\"#66a61e\"},\"hatch_color\":{\"value\":\"#66a61e\"},\"line_color\":{\"value\":\"#66a61e\"},\"top\":{\"expr\":{\"id\":\"1586\"}},\"width\":{\"value\":0.9},\"x\":{\"field\":\"Year\"}},\"id\":\"1659\",\"type\":\"VBar\"},{\"attributes\":{\"source\":{\"id\":\"1543\"}},\"id\":\"1663\",\"type\":\"CDSView\"},{\"attributes\":{\"axis_label\":\"Total Crimes\",\"coordinates\":null,\"formatter\":{\"id\":\"1597\"},\"group\":null,\"major_label_policy\":{\"id\":\"1598\"},\"minor_tick_line_color\":null,\"ticker\":{\"id\":\"1560\"}},\"id\":\"1559\",\"type\":\"LinearAxis\"},{\"attributes\":{},\"id\":\"1556\",\"type\":\"BasicTicker\"},{\"attributes\":{},\"id\":\"1547\",\"type\":\"DataRange1d\"},{\"attributes\":{\"source\":{\"id\":\"1543\"}},\"id\":\"1680\",\"type\":\"CDSView\"},{\"attributes\":{},\"id\":\"1566\",\"type\":\"ResetTool\"},{\"attributes\":{\"fields\":[\"ARSON\",\"BURGLARY\"]},\"id\":\"1580\",\"type\":\"Stack\"},{\"attributes\":{\"start\":0},\"id\":\"1549\",\"type\":\"DataRange1d\"},{\"attributes\":{\"bottom\":{\"expr\":{\"id\":\"1577\"}},\"fill_alpha\":{\"value\":0.1},\"fill_color\":{\"value\":\"#1b9e77\"},\"hatch_alpha\":{\"value\":0.1},\"hatch_color\":{\"value\":\"#1b9e77\"},\"line_alpha\":{\"value\":0.1},\"line_color\":{\"value\":\"#1b9e77\"},\"top\":{\"expr\":{\"id\":\"1578\"}},\"width\":{\"value\":0.9},\"x\":{\"field\":\"Year\"}},\"id\":\"1591\",\"type\":\"VBar\"},{\"attributes\":{\"coordinates\":null,\"group\":null,\"text\":\"Category wise count of crimes by year\"},\"id\":\"1545\",\"type\":\"Title\"},{\"attributes\":{\"label\":{\"value\":\"VEHICLE THEFT\"},\"renderers\":[{\"id\":\"1679\"}]},\"id\":\"1691\",\"type\":\"LegendItem\"},{\"attributes\":{},\"id\":\"1603\",\"type\":\"Selection\"},{\"attributes\":{\"source\":{\"id\":\"1543\"}},\"id\":\"1612\",\"type\":\"CDSView\"},{\"attributes\":{\"fields\":[\"ARSON\",\"BURGLARY\",\"LARCENY/THEFT\",\"STOLEN PROPERTY\"]},\"id\":\"1584\",\"type\":\"Stack\"},{\"attributes\":{\"fields\":[\"ARSON\",\"BURGLARY\",\"LARCENY/THEFT\",\"STOLEN PROPERTY\"]},\"id\":\"1585\",\"type\":\"Stack\"},{\"attributes\":{},\"id\":\"1602\",\"type\":\"UnionRenderers\"},{\"attributes\":{\"callback\":null},\"id\":\"1568\",\"type\":\"TapTool\"},{\"attributes\":{\"fields\":[\"ARSON\",\"BURGLARY\",\"LARCENY/THEFT\",\"STOLEN PROPERTY\",\"VANDALISM\"]},\"id\":\"1586\",\"type\":\"Stack\"},{\"attributes\":{\"fields\":[\"ARSON\"]},\"id\":\"1578\",\"type\":\"Stack\"}],\"root_ids\":[\"1544\"]},\"title\":\"Bokeh Application\",\"version\":\"2.4.3\"}};\n  const render_items = [{\"docid\":\"9e3895ef-d164-45a9-a72a-d41e319e47db\",\"root_ids\":[\"1544\"],\"roots\":{\"1544\":\"e70d392b-5277-4a2a-b09b-8693ba477132\"}}];\n  root.Bokeh.embed.embed_items_notebook(docs_json, render_items);\n  }\n  if (root.Bokeh !== undefined) {\n    embed_document(root);\n  } else {\n    let attempts = 0;\n    const timer = setInterval(function(root) {\n      if (root.Bokeh !== undefined) {\n        clearInterval(timer);\n        embed_document(root);\n      } else {\n        attempts++;\n        if (attempts > 100) {\n          clearInterval(timer);\n          console.log(\"Bokeh: ERROR: Unable to run BokehJS code because BokehJS library is missing\");\n        }\n      }\n    }, 10, root)\n  }\n})(window);",
      "application/vnd.bokehjs_exec.v0+json": ""
     },
     "metadata": {
      "application/vnd.bokehjs_exec.v0+json": {
       "id": "1544"
      }
     },
     "output_type": "display_data"
    }
   ],
   "source": [
    "TOOLS = \"save,pan,box_zoom,reset,wheel_zoom,tap\"\n",
    "\n",
    "source = ColumnDataSource(data=temp_df)\n",
    "p = figure( plot_width=800, title=\"Category wise count of crimes by year\",toolbar_location='above', tools=TOOLS)\n",
    "colors = brewer['Dark2'][6]\n",
    "\n",
    "p.vbar_stack(cats, x='Year', width=0.9, color=colors, source=source,\n",
    "             legend=[value(x) for x in cats])\n",
    "\n",
    "p.y_range.start = 0\n",
    "p.x_range.range_padding = 0.1\n",
    "p.xgrid.grid_line_color = None\n",
    "p.axis.minor_tick_line_color = None\n",
    "p.outline_line_color = None\n",
    "p.xaxis.axis_label = 'Year'\n",
    "p.yaxis.axis_label = 'Total Crimes'\n",
    "p.legend.location = \"top_left\"\n",
    "p.legend.orientation = \"horizontal\"\n",
    "\n",
    "output_file(\"stacked_bar.html\", title=\"Stacked Bar Chart\")\n",
    "\n",
    "show(p)"
   ]
  },
  {
   "cell_type": "markdown",
   "metadata": {},
   "source": [
    "### Heat Map\n",
    "The heat map shows the total number of crimes by month and year, with darker colours represnting higher number of crimes. Months in 2015 have the highest total while the least are in the some months in 2009 and 2010."
   ]
  },
  {
   "cell_type": "code",
   "execution_count": 19,
   "metadata": {},
   "outputs": [
    {
     "data": {
      "text/html": [
       "<div>\n",
       "<style scoped>\n",
       "    .dataframe tbody tr th:only-of-type {\n",
       "        vertical-align: middle;\n",
       "    }\n",
       "\n",
       "    .dataframe tbody tr th {\n",
       "        vertical-align: top;\n",
       "    }\n",
       "\n",
       "    .dataframe thead th {\n",
       "        text-align: right;\n",
       "    }\n",
       "</style>\n",
       "<table border=\"1\" class=\"dataframe\">\n",
       "  <thead>\n",
       "    <tr style=\"text-align: right;\">\n",
       "      <th></th>\n",
       "      <th>Year</th>\n",
       "      <th>Month</th>\n",
       "      <th>IncidntNum</th>\n",
       "    </tr>\n",
       "  </thead>\n",
       "  <tbody>\n",
       "    <tr>\n",
       "      <th>0</th>\n",
       "      <td>2005</td>\n",
       "      <td>1</td>\n",
       "      <td>4991</td>\n",
       "    </tr>\n",
       "    <tr>\n",
       "      <th>1</th>\n",
       "      <td>2005</td>\n",
       "      <td>2</td>\n",
       "      <td>4166</td>\n",
       "    </tr>\n",
       "    <tr>\n",
       "      <th>2</th>\n",
       "      <td>2005</td>\n",
       "      <td>3</td>\n",
       "      <td>4815</td>\n",
       "    </tr>\n",
       "    <tr>\n",
       "      <th>3</th>\n",
       "      <td>2005</td>\n",
       "      <td>4</td>\n",
       "      <td>4711</td>\n",
       "    </tr>\n",
       "    <tr>\n",
       "      <th>4</th>\n",
       "      <td>2005</td>\n",
       "      <td>5</td>\n",
       "      <td>5120</td>\n",
       "    </tr>\n",
       "  </tbody>\n",
       "</table>\n",
       "</div>"
      ],
      "text/plain": [
       "   Year  Month  IncidntNum\n",
       "0  2005      1        4991\n",
       "1  2005      2        4166\n",
       "2  2005      3        4815\n",
       "3  2005      4        4711\n",
       "4  2005      5        5120"
      ]
     },
     "execution_count": 19,
     "metadata": {},
     "output_type": "execute_result"
    }
   ],
   "source": [
    "temp_df = data.groupby(['Year', 'Month']).sum().reset_index()\n",
    "# temp_df['Month_Category'] = pd.concat([temp_df['Month'], temp_df['Category']], axis = 1)\n",
    "temp_df.head()"
   ]
  },
  {
   "cell_type": "code",
   "execution_count": 20,
   "metadata": {},
   "outputs": [
    {
     "data": {
      "text/html": [
       "\n",
       "  <div class=\"bk-root\" id=\"0ba0bad5-9fb7-456e-973a-9c38a77b8805\" data-root-id=\"1915\"></div>\n"
      ]
     },
     "metadata": {},
     "output_type": "display_data"
    },
    {
     "data": {
      "application/javascript": "(function(root) {\n  function embed_document(root) {\n  const docs_json = {\"06091b3f-9908-4401-b768-f5b8602ad6eb\":{\"defs\":[],\"roots\":{\"references\":[{\"attributes\":{\"below\":[{\"id\":\"1926\"}],\"center\":[{\"id\":\"1929\"},{\"id\":\"1933\"}],\"left\":[{\"id\":\"1930\"}],\"renderers\":[{\"id\":\"1956\"}],\"right\":[{\"id\":\"1960\"}],\"title\":{\"id\":\"1916\"},\"toolbar\":{\"id\":\"1942\"},\"toolbar_location\":\"above\",\"x_range\":{\"id\":\"1918\"},\"x_scale\":{\"id\":\"1922\"},\"y_range\":{\"id\":\"1920\"},\"y_scale\":{\"id\":\"1924\"}},\"id\":\"1915\",\"subtype\":\"Figure\",\"type\":\"Plot\"},{\"attributes\":{\"fill_color\":{\"field\":\"IncidntNum\",\"transform\":{\"id\":\"1951\"}},\"height\":{\"value\":1},\"line_color\":{\"value\":null},\"width\":{\"value\":2},\"x\":{\"field\":\"Year\"},\"y\":{\"field\":\"Month\"}},\"id\":\"1953\",\"type\":\"Rect\"},{\"attributes\":{},\"id\":\"1924\",\"type\":\"LinearScale\"},{\"attributes\":{},\"id\":\"1920\",\"type\":\"DataRange1d\"},{\"attributes\":{\"bottom_units\":\"screen\",\"coordinates\":null,\"fill_alpha\":0.5,\"fill_color\":\"lightgrey\",\"group\":null,\"left_units\":\"screen\",\"level\":\"overlay\",\"line_alpha\":1.0,\"line_color\":\"black\",\"line_dash\":[4,4],\"line_width\":2,\"right_units\":\"screen\",\"syncable\":false,\"top_units\":\"screen\"},\"id\":\"1941\",\"type\":\"BoxAnnotation\"},{\"attributes\":{\"tools\":[{\"id\":\"1934\"},{\"id\":\"1935\"},{\"id\":\"1936\"},{\"id\":\"1937\"},{\"id\":\"1938\"},{\"id\":\"1939\"},{\"id\":\"1940\"}]},\"id\":\"1942\",\"type\":\"Toolbar\"},{\"attributes\":{\"overlay\":{\"id\":\"1941\"}},\"id\":\"1937\",\"type\":\"BoxZoomTool\"},{\"attributes\":{\"coordinates\":null,\"group\":null,\"text\":\"Month-Year wise crimes\"},\"id\":\"1916\",\"type\":\"Title\"},{\"attributes\":{},\"id\":\"1965\",\"type\":\"NoOverlap\"},{\"attributes\":{\"data\":{\"IncidntNum\":[4991,4166,4815,4711,5120,4918,5143,5092,4770,5191,4862,4589,4167,3825,4177,4412,4270,4188,4259,4511,4171,4261,3903,4006,3720,3067,3747,3582,3643,3851,4482,4296,4188,4129,3715,3603,3805,3338,3944,4027,3831,3467,3818,3818,4010,4282,3713,3594,3540,3186,3858,3667,3450,3291,4001,4239,3925,3915,3790,3771,3688,3078,3355,3311,3495,3577,3659,3855,3721,3654,3668,3520,3655,3222,3856,3534,3676,3434,3415,3644,3608,3934,3798,4109,3809,3741,3768,4073,4254,4197,4459,4732,4808,5202,4789,4547,4668,4215,4613,4607,4355,4380,5074,5300,5638,5190,4629,4572,4771,4164,4826,4886,4650,4477,5065,5518,4921,5652,5242,5507,5555,4945,5750,5394,6009,5741,5885,5651,5294,5222,4692,4749],\"Month\":[1,2,3,4,5,6,7,8,9,10,11,12,1,2,3,4,5,6,7,8,9,10,11,12,1,2,3,4,5,6,7,8,9,10,11,12,1,2,3,4,5,6,7,8,9,10,11,12,1,2,3,4,5,6,7,8,9,10,11,12,1,2,3,4,5,6,7,8,9,10,11,12,1,2,3,4,5,6,7,8,9,10,11,12,1,2,3,4,5,6,7,8,9,10,11,12,1,2,3,4,5,6,7,8,9,10,11,12,1,2,3,4,5,6,7,8,9,10,11,12,1,2,3,4,5,6,7,8,9,10,11,12],\"Year\":[2005,2005,2005,2005,2005,2005,2005,2005,2005,2005,2005,2005,2006,2006,2006,2006,2006,2006,2006,2006,2006,2006,2006,2006,2007,2007,2007,2007,2007,2007,2007,2007,2007,2007,2007,2007,2008,2008,2008,2008,2008,2008,2008,2008,2008,2008,2008,2008,2009,2009,2009,2009,2009,2009,2009,2009,2009,2009,2009,2009,2010,2010,2010,2010,2010,2010,2010,2010,2010,2010,2010,2010,2011,2011,2011,2011,2011,2011,2011,2011,2011,2011,2011,2011,2012,2012,2012,2012,2012,2012,2012,2012,2012,2012,2012,2012,2013,2013,2013,2013,2013,2013,2013,2013,2013,2013,2013,2013,2014,2014,2014,2014,2014,2014,2014,2014,2014,2014,2014,2014,2015,2015,2015,2015,2015,2015,2015,2015,2015,2015,2015,2015],\"index\":[0,1,2,3,4,5,6,7,8,9,10,11,12,13,14,15,16,17,18,19,20,21,22,23,24,25,26,27,28,29,30,31,32,33,34,35,36,37,38,39,40,41,42,43,44,45,46,47,48,49,50,51,52,53,54,55,56,57,58,59,60,61,62,63,64,65,66,67,68,69,70,71,72,73,74,75,76,77,78,79,80,81,82,83,84,85,86,87,88,89,90,91,92,93,94,95,96,97,98,99,100,101,102,103,104,105,106,107,108,109,110,111,112,113,114,115,116,117,118,119,120,121,122,123,124,125,126,127,128,129,130,131]},\"selected\":{\"id\":\"1970\"},\"selection_policy\":{\"id\":\"1969\"}},\"id\":\"1950\",\"type\":\"ColumnDataSource\"},{\"attributes\":{},\"id\":\"1918\",\"type\":\"DataRange1d\"},{\"attributes\":{},\"id\":\"1922\",\"type\":\"LinearScale\"},{\"attributes\":{},\"id\":\"1959\",\"type\":\"PrintfTickFormatter\"},{\"attributes\":{},\"id\":\"1970\",\"type\":\"Selection\"},{\"attributes\":{\"coordinates\":null,\"data_source\":{\"id\":\"1950\"},\"glyph\":{\"id\":\"1953\"},\"group\":null,\"hover_glyph\":null,\"muted_glyph\":{\"id\":\"1955\"},\"nonselection_glyph\":{\"id\":\"1954\"},\"view\":{\"id\":\"1957\"}},\"id\":\"1956\",\"type\":\"GlyphRenderer\"},{\"attributes\":{},\"id\":\"1927\",\"type\":\"BasicTicker\"},{\"attributes\":{},\"id\":\"1939\",\"type\":\"WheelZoomTool\"},{\"attributes\":{\"callback\":null},\"id\":\"1940\",\"type\":\"TapTool\"},{\"attributes\":{\"color_mapper\":{\"id\":\"1951\"},\"coordinates\":null,\"formatter\":{\"id\":\"1959\"},\"group\":null,\"label_standoff\":6,\"location\":[0,0],\"major_label_policy\":{\"id\":\"1965\"},\"major_label_text_font_size\":\"10pt\",\"ticker\":{\"id\":\"1958\"}},\"id\":\"1960\",\"type\":\"ColorBar\"},{\"attributes\":{\"axis_label\":\"Month\",\"coordinates\":null,\"formatter\":{\"id\":\"1963\"},\"group\":null,\"major_label_policy\":{\"id\":\"1964\"},\"ticker\":{\"id\":\"1931\"}},\"id\":\"1930\",\"type\":\"LinearAxis\"},{\"attributes\":{\"desired_num_ticks\":9},\"id\":\"1958\",\"type\":\"BasicTicker\"},{\"attributes\":{},\"id\":\"1936\",\"type\":\"PanTool\"},{\"attributes\":{\"callback\":null,\"tooltips\":[[\"Year\",\"@Year\"],[\"Month\",\"@Month\"],[\"Number of Crimes\",\"@IncidntNum\"]]},\"id\":\"1934\",\"type\":\"HoverTool\"},{\"attributes\":{\"fill_alpha\":{\"value\":0.1},\"fill_color\":{\"field\":\"IncidntNum\",\"transform\":{\"id\":\"1951\"}},\"hatch_alpha\":{\"value\":0.1},\"height\":{\"value\":1},\"line_alpha\":{\"value\":0.1},\"line_color\":{\"value\":null},\"width\":{\"value\":2},\"x\":{\"field\":\"Year\"},\"y\":{\"field\":\"Month\"}},\"id\":\"1954\",\"type\":\"Rect\"},{\"attributes\":{\"axis\":{\"id\":\"1926\"},\"coordinates\":null,\"group\":null,\"ticker\":null},\"id\":\"1929\",\"type\":\"Grid\"},{\"attributes\":{},\"id\":\"1935\",\"type\":\"SaveTool\"},{\"attributes\":{},\"id\":\"1938\",\"type\":\"ResetTool\"},{\"attributes\":{},\"id\":\"1931\",\"type\":\"BasicTicker\"},{\"attributes\":{},\"id\":\"1968\",\"type\":\"AllLabels\"},{\"attributes\":{},\"id\":\"1969\",\"type\":\"UnionRenderers\"},{\"attributes\":{},\"id\":\"1963\",\"type\":\"BasicTickFormatter\"},{\"attributes\":{\"high\":6009,\"low\":3067,\"palette\":[\"#f7fcfd\",\"#e5f5f9\",\"#ccece6\",\"#99d8c9\",\"#66c2a4\",\"#41ae76\",\"#238b45\",\"#006d2c\",\"#00441b\"]},\"id\":\"1951\",\"type\":\"LinearColorMapper\"},{\"attributes\":{\"source\":{\"id\":\"1950\"}},\"id\":\"1957\",\"type\":\"CDSView\"},{\"attributes\":{\"axis\":{\"id\":\"1930\"},\"coordinates\":null,\"dimension\":1,\"group\":null,\"ticker\":null},\"id\":\"1933\",\"type\":\"Grid\"},{\"attributes\":{},\"id\":\"1964\",\"type\":\"AllLabels\"},{\"attributes\":{\"fill_alpha\":{\"value\":0.2},\"fill_color\":{\"field\":\"IncidntNum\",\"transform\":{\"id\":\"1951\"}},\"hatch_alpha\":{\"value\":0.2},\"height\":{\"value\":1},\"line_alpha\":{\"value\":0.2},\"line_color\":{\"value\":null},\"width\":{\"value\":2},\"x\":{\"field\":\"Year\"},\"y\":{\"field\":\"Month\"}},\"id\":\"1955\",\"type\":\"Rect\"},{\"attributes\":{\"axis_label\":\"Year\",\"coordinates\":null,\"formatter\":{\"id\":\"1967\"},\"group\":null,\"major_label_policy\":{\"id\":\"1968\"},\"ticker\":{\"id\":\"1927\"}},\"id\":\"1926\",\"type\":\"LinearAxis\"},{\"attributes\":{},\"id\":\"1967\",\"type\":\"BasicTickFormatter\"}],\"root_ids\":[\"1915\"]},\"title\":\"Bokeh Application\",\"version\":\"2.4.3\"}};\n  const render_items = [{\"docid\":\"06091b3f-9908-4401-b768-f5b8602ad6eb\",\"root_ids\":[\"1915\"],\"roots\":{\"1915\":\"0ba0bad5-9fb7-456e-973a-9c38a77b8805\"}}];\n  root.Bokeh.embed.embed_items_notebook(docs_json, render_items);\n  }\n  if (root.Bokeh !== undefined) {\n    embed_document(root);\n  } else {\n    let attempts = 0;\n    const timer = setInterval(function(root) {\n      if (root.Bokeh !== undefined) {\n        clearInterval(timer);\n        embed_document(root);\n      } else {\n        attempts++;\n        if (attempts > 100) {\n          clearInterval(timer);\n          console.log(\"Bokeh: ERROR: Unable to run BokehJS code because BokehJS library is missing\");\n        }\n      }\n    }, 10, root)\n  }\n})(window);",
      "application/vnd.bokehjs_exec.v0+json": ""
     },
     "metadata": {
      "application/vnd.bokehjs_exec.v0+json": {
       "id": "1915"
      }
     },
     "output_type": "display_data"
    }
   ],
   "source": [
    "TOOLS = \"hover,save,pan,box_zoom,reset,wheel_zoom,tap\"\n",
    "hm = figure(title=\"Month-Year wise crimes\", tools=TOOLS, toolbar_location='above')\n",
    "\n",
    "source = ColumnDataSource(temp_df)\n",
    "colors = brewer['BuGn'][9]\n",
    "colors = colors[::-1]\n",
    "mapper = LinearColorMapper(\n",
    "    palette=colors, low=temp_df.IncidntNum.min(), high=temp_df.IncidntNum.max())\n",
    "hm.rect(x=\"Year\", y=\"Month\",width=2,height=1,source = source,  \n",
    "    fill_color={\n",
    "        'field': 'IncidntNum',\n",
    "        'transform': mapper\n",
    "    },\n",
    "    line_color=None)\n",
    "color_bar = ColorBar(\n",
    "    color_mapper=mapper,\n",
    "    major_label_text_font_size=\"10pt\",\n",
    "    ticker=BasicTicker(desired_num_ticks=len(colors)),\n",
    "    formatter=PrintfTickFormatter(),\n",
    "    label_standoff=6,\n",
    "    border_line_color=None,\n",
    "    location=(0, 0))\n",
    "\n",
    "hm.add_layout(color_bar, 'right')\n",
    "hm.xaxis.axis_label = 'Year'\n",
    "hm.yaxis.axis_label = 'Month'\n",
    "hm.select_one(HoverTool).tooltips = [\n",
    "    ('Year', '@Year'),('Month', '@Month'), ('Number of Crimes', '@IncidntNum')\n",
    "]\n",
    "\n",
    "output_file(\"heatmap.html\", title=\"Heat Map\")\n",
    "\n",
    "show(hm)  # open a browser"
   ]
  },
  {
   "cell_type": "markdown",
   "metadata": {},
   "source": [
    "### Multiline Plot\n",
    "This plot shows the distribution of crimes across categories over the years. This plot shows information similar to the stacked bar chart, except that here it is easier to note that arson and property theft amount to almost the same amount of crimes every year. Similarly, vehicle theft(except for 2005), vandalism and burglary have very similar patterns. Only larceny/theft is increasing with every passing year and its count is much higher than any of the other types of crimes."
   ]
  },
  {
   "cell_type": "code",
   "execution_count": 21,
   "metadata": {},
   "outputs": [
    {
     "name": "stderr",
     "output_type": "stream",
     "text": [
      "BokehDeprecationWarning: 'legend' keyword is deprecated, use explicit 'legend_label', 'legend_field', or 'legend_group' keywords instead\n",
      "BokehDeprecationWarning: 'legend' keyword is deprecated, use explicit 'legend_label', 'legend_field', or 'legend_group' keywords instead\n",
      "BokehDeprecationWarning: 'legend' keyword is deprecated, use explicit 'legend_label', 'legend_field', or 'legend_group' keywords instead\n",
      "BokehDeprecationWarning: 'legend' keyword is deprecated, use explicit 'legend_label', 'legend_field', or 'legend_group' keywords instead\n",
      "BokehDeprecationWarning: 'legend' keyword is deprecated, use explicit 'legend_label', 'legend_field', or 'legend_group' keywords instead\n",
      "BokehDeprecationWarning: 'legend' keyword is deprecated, use explicit 'legend_label', 'legend_field', or 'legend_group' keywords instead\n"
     ]
    },
    {
     "data": {
      "text/html": [
       "\n",
       "  <div class=\"bk-root\" id=\"b5441cdc-5290-48e8-8099-0ede073979fc\" data-root-id=\"2225\"></div>\n"
      ]
     },
     "metadata": {},
     "output_type": "display_data"
    },
    {
     "data": {
      "application/javascript": "(function(root) {\n  function embed_document(root) {\n  const docs_json = {\"80742a47-32ea-4dd8-b898-88f54bd96fe2\":{\"defs\":[],\"roots\":{\"references\":[{\"attributes\":{\"below\":[{\"id\":\"2236\"}],\"center\":[{\"id\":\"2239\"},{\"id\":\"2243\"},{\"id\":\"2286\"}],\"left\":[{\"id\":\"2240\"}],\"renderers\":[{\"id\":\"2262\"},{\"id\":\"2292\"},{\"id\":\"2323\"},{\"id\":\"2356\"},{\"id\":\"2391\"},{\"id\":\"2428\"}],\"title\":{\"id\":\"2226\"},\"toolbar\":{\"id\":\"2251\"},\"x_range\":{\"id\":\"2228\"},\"x_scale\":{\"id\":\"2232\"},\"y_range\":{\"id\":\"2230\"},\"y_scale\":{\"id\":\"2234\"}},\"id\":\"2225\",\"subtype\":\"Figure\",\"type\":\"Plot\"},{\"attributes\":{\"line_alpha\":0.1,\"line_color\":\"green\",\"line_width\":3,\"x\":{\"field\":\"x\"},\"y\":{\"field\":\"y\"}},\"id\":\"2354\",\"type\":\"Line\"},{\"attributes\":{\"line_alpha\":0.2,\"line_color\":\"green\",\"line_width\":3,\"x\":{\"field\":\"x\"},\"y\":{\"field\":\"y\"}},\"id\":\"2355\",\"type\":\"Line\"},{\"attributes\":{\"coordinates\":null,\"data_source\":{\"id\":\"2352\"},\"glyph\":{\"id\":\"2353\"},\"group\":null,\"hover_glyph\":null,\"muted_glyph\":{\"id\":\"2355\"},\"nonselection_glyph\":{\"id\":\"2354\"},\"view\":{\"id\":\"2357\"}},\"id\":\"2356\",\"type\":\"GlyphRenderer\"},{\"attributes\":{\"coordinates\":null,\"data_source\":{\"id\":\"2258\"},\"glyph\":{\"id\":\"2259\"},\"group\":null,\"hover_glyph\":null,\"muted_glyph\":{\"id\":\"2261\"},\"nonselection_glyph\":{\"id\":\"2260\"},\"view\":{\"id\":\"2263\"}},\"id\":\"2262\",\"type\":\"GlyphRenderer\"},{\"attributes\":{\"source\":{\"id\":\"2352\"}},\"id\":\"2357\",\"type\":\"CDSView\"},{\"attributes\":{\"line_alpha\":0.1,\"line_color\":\"purple\",\"line_width\":3,\"x\":{\"field\":\"x\"},\"y\":{\"field\":\"y\"}},\"id\":\"2260\",\"type\":\"Line\"},{\"attributes\":{\"label\":{\"value\":\"larceny\"},\"renderers\":[{\"id\":\"2356\"}]},\"id\":\"2386\",\"type\":\"LegendItem\"},{\"attributes\":{},\"id\":\"2371\",\"type\":\"UnionRenderers\"},{\"attributes\":{},\"id\":\"2372\",\"type\":\"Selection\"},{\"attributes\":{},\"id\":\"2248\",\"type\":\"ResetTool\"},{\"attributes\":{},\"id\":\"2249\",\"type\":\"WheelZoomTool\"},{\"attributes\":{},\"id\":\"2244\",\"type\":\"CrosshairTool\"},{\"attributes\":{\"bottom_units\":\"screen\",\"coordinates\":null,\"fill_alpha\":0.5,\"fill_color\":\"lightgrey\",\"group\":null,\"left_units\":\"screen\",\"level\":\"overlay\",\"line_alpha\":1.0,\"line_color\":\"black\",\"line_dash\":[4,4],\"line_width\":2,\"right_units\":\"screen\",\"syncable\":false,\"top_units\":\"screen\"},\"id\":\"2250\",\"type\":\"BoxAnnotation\"},{\"attributes\":{\"tools\":[{\"id\":\"2244\"},{\"id\":\"2245\"},{\"id\":\"2246\"},{\"id\":\"2247\"},{\"id\":\"2248\"},{\"id\":\"2249\"}]},\"id\":\"2251\",\"type\":\"Toolbar\"},{\"attributes\":{\"line_color\":\"purple\",\"line_width\":3,\"x\":{\"field\":\"x\"},\"y\":{\"field\":\"y\"}},\"id\":\"2259\",\"type\":\"Line\"},{\"attributes\":{},\"id\":\"2241\",\"type\":\"BasicTicker\"},{\"attributes\":{\"axis\":{\"id\":\"2240\"},\"coordinates\":null,\"dimension\":1,\"group\":null,\"ticker\":null},\"id\":\"2243\",\"type\":\"Grid\"},{\"attributes\":{\"line_color\":\"gold\",\"line_width\":3,\"x\":{\"field\":\"x\"},\"y\":{\"field\":\"y\"}},\"id\":\"2388\",\"type\":\"Line\"},{\"attributes\":{\"label\":{\"value\":\"burglary\"},\"renderers\":[{\"id\":\"2262\"}]},\"id\":\"2287\",\"type\":\"LegendItem\"},{\"attributes\":{\"data\":{\"x\":{\"__ndarray__\":\"AAAAJLkScEIAAEB2sxxwQgAAQJe2JXBCAACA6bAvcEIAAADWWDlwQgAAQChTQ3BCAADAFPtMcEIAAABn9VZwQgAAQLnvYHBCAADApZdqcEIAAAD4kXRwQgAAgOQ5fnBCAADANjSIcEIAAACJLpJwQgAAAKoxm3BCAABA/CulcEIAAMDo065wQgAAADvOuHBCAACAJ3bCcEIAAMB5cMxwQgAAAMxq1nBCAACAuBLgcEIAAMAKDepwQgAAQPe083BCAACASa/9cEIAAMCbqQdxQgAAwLysEHFCAAAAD6cacUIAAID7TiRxQgAAwE1JLnFCAABAOvE3cUIAAICM60FxQgAAwN7lS3FCAABAy41VcUIAAIAdiF9xQgAAAAowaXFCAABAXCpzcUIAAICuJH1xQgAAQDV6hnFCAACAh3SQcUIAAAB0HJpxQgAAQMYWpHFCAADAsr6tcUIAAAAFubdxQgAAQFezwXFCAADAQ1vLcUIAAACWVdVxQgAAgIL93nFCAADA1PfocUIAAAAn8vJxQgAAAEj1+3FCAABAmu8FckIAAMCGlw9yQgAAANmRGXJCAACAxTkjckIAAMAXNC1yQgAAAGouN3JCAACAVtZAckIAAMCo0EpyQgAAQJV4VHJCAACA53JeckIAAMA5bWhyQgAAwFpwcXJCAAAArWp7ckIAAICZEoVyQgAAwOsMj3JCAABA2LSYckIAAIAqr6JyQgAAwHyprHJCAABAaVG2ckIAAIC7S8ByQgAAAKjzyXJCAABA+u3TckIAAIBM6N1yQgAAgG3r5nJCAADAv+XwckIAAECsjfpyQgAAgP6HBHNCAAAA6y8Oc0IAAEA9KhhzQgAAgI8kInNCAAAAfMwrc0IAAEDOxjVzQgAAwLpuP3NCAAAADWlJc0IAAEBfY1NzQgAAAOa4XHNCAABAOLNmc0IAAMAkW3BzQgAAAHdVenNCAACAY/2Dc0IAAMC1941zQgAAAAjyl3NCAACA9Jmhc0IAAMBGlKtzQgAAQDM8tXNCAACAhTa/c0IAAMDXMMlzQgAAwPgz0nNCAAAASy7cc0IAAIA31uVzQgAAwInQ73NCAABAdnj5c0IAAIDIcgN0QgAAwBptDXRCAABABxUXdEIAAIBZDyF0QgAAAEa3KnRCAABAmLE0dEIAAIDqqz50QgAAgAuvR3RCAADAXalRdEIAAEBKUVt0QgAAgJxLZXRCAAAAifNudEIAAEDb7Xh0QgAAgC3ognRCAAAAGpCMdEIAAEBsipZ0QgAAwFgyoHRCAAAAqyyqdEIAAED9JrR0QgAAQB4qvXRCAACAcCTHdEIAAABdzNB0QgAAQK/G2nRCAADAm27kdEIAAADuaO50QgAAQEBj+HRCAADALAsCdUIAAAB/BQx1QgAAgGutFXVC\",\"dtype\":\"float64\",\"order\":\"little\",\"shape\":[132]},\"y\":[493,462,585,581,658,622,643,616,559,655,581,558,601,602,621,741,678,602,660,687,672,664,560,600,648,531,682,612,643,644,738,604,639,690,596,539,642,546,653,664,635,567,601,582,579,711,602,560,556,481,623,660,554,537,675,714,688,750,684,682,702,588,609,687,719,715,650,694,685,680,635,570,663,590,684,683,601,571,598,562,525,595,541,630,605,604,642,659,606,614,675,663,687,807,648,598,566,526,657,610,515,561,598,558,630,587,516,597,577,546,603,619,592,508,616,632,604,635,611,622,616,513,678,587,672,662,773,729,663,674,561,547]},\"selected\":{\"id\":\"2409\"},\"selection_policy\":{\"id\":\"2408\"}},\"id\":\"2387\",\"type\":\"ColumnDataSource\"},{\"attributes\":{},\"id\":\"2246\",\"type\":\"PanTool\"},{\"attributes\":{\"overlay\":{\"id\":\"2250\"}},\"id\":\"2247\",\"type\":\"BoxZoomTool\"},{\"attributes\":{},\"id\":\"2245\",\"type\":\"SaveTool\"},{\"attributes\":{\"source\":{\"id\":\"2387\"}},\"id\":\"2392\",\"type\":\"CDSView\"},{\"attributes\":{\"axis_label\":\"Count\",\"coordinates\":null,\"formatter\":{\"id\":\"2266\"},\"group\":null,\"major_label_policy\":{\"id\":\"2267\"},\"ticker\":{\"id\":\"2241\"}},\"id\":\"2240\",\"type\":\"LinearAxis\"},{\"attributes\":{\"coordinates\":null,\"data_source\":{\"id\":\"2387\"},\"glyph\":{\"id\":\"2388\"},\"group\":null,\"hover_glyph\":null,\"muted_glyph\":{\"id\":\"2390\"},\"nonselection_glyph\":{\"id\":\"2389\"},\"view\":{\"id\":\"2392\"}},\"id\":\"2391\",\"type\":\"GlyphRenderer\"},{\"attributes\":{\"line_alpha\":0.2,\"line_color\":\"gold\",\"line_width\":3,\"x\":{\"field\":\"x\"},\"y\":{\"field\":\"y\"}},\"id\":\"2390\",\"type\":\"Line\"},{\"attributes\":{\"line_alpha\":0.1,\"line_color\":\"gold\",\"line_width\":3,\"x\":{\"field\":\"x\"},\"y\":{\"field\":\"y\"}},\"id\":\"2389\",\"type\":\"Line\"},{\"attributes\":{\"label\":{\"value\":\"vandalism\"},\"renderers\":[{\"id\":\"2391\"}]},\"id\":\"2423\",\"type\":\"LegendItem\"},{\"attributes\":{\"line_color\":\"blue\",\"line_width\":3,\"x\":{\"field\":\"x\"},\"y\":{\"field\":\"y\"}},\"id\":\"2289\",\"type\":\"Line\"},{\"attributes\":{},\"id\":\"2408\",\"type\":\"UnionRenderers\"},{\"attributes\":{},\"id\":\"2409\",\"type\":\"Selection\"},{\"attributes\":{\"data\":{\"x\":{\"__ndarray__\":\"AAAAJLkScEIAAEB2sxxwQgAAQJe2JXBCAACA6bAvcEIAAADWWDlwQgAAQChTQ3BCAADAFPtMcEIAAABn9VZwQgAAQLnvYHBCAADApZdqcEIAAAD4kXRwQgAAgOQ5fnBCAADANjSIcEIAAACJLpJwQgAAAKoxm3BCAABA/CulcEIAAMDo065wQgAAADvOuHBCAACAJ3bCcEIAAMB5cMxwQgAAAMxq1nBCAACAuBLgcEIAAMAKDepwQgAAQPe083BCAACASa/9cEIAAMCbqQdxQgAAwLysEHFCAAAAD6cacUIAAID7TiRxQgAAwE1JLnFCAABAOvE3cUIAAICM60FxQgAAwN7lS3FCAABAy41VcUIAAIAdiF9xQgAAAAowaXFCAABAXCpzcUIAAICuJH1xQgAAQDV6hnFCAACAh3SQcUIAAAB0HJpxQgAAQMYWpHFCAADAsr6tcUIAAAAFubdxQgAAQFezwXFCAADAQ1vLcUIAAACWVdVxQgAAgIL93nFCAADA1PfocUIAAAAn8vJxQgAAAEj1+3FCAABAmu8FckIAAMCGlw9yQgAAANmRGXJCAACAxTkjckIAAMAXNC1yQgAAAGouN3JCAACAVtZAckIAAMCo0EpyQgAAQJV4VHJCAACA53JeckIAAMA5bWhyQgAAwFpwcXJCAAAArWp7ckIAAICZEoVyQgAAwOsMj3JCAABA2LSYckIAAIAqr6JyQgAAwHyprHJCAABAaVG2ckIAAIC7S8ByQgAAAKjzyXJCAABA+u3TckIAAIBM6N1yQgAAgG3r5nJCAADAv+XwckIAAECsjfpyQgAAgP6HBHNCAAAA6y8Oc0IAAEA9KhhzQgAAgI8kInNCAAAAfMwrc0IAAEDOxjVzQgAAwLpuP3NCAAAADWlJc0IAAEBfY1NzQgAAAOa4XHNCAABAOLNmc0IAAMAkW3BzQgAAAHdVenNCAACAY/2Dc0IAAMC1941zQgAAAAjyl3NCAACA9Jmhc0IAAMBGlKtzQgAAQDM8tXNCAACAhTa/c0IAAMDXMMlzQgAAwPgz0nNCAAAASy7cc0IAAIA31uVzQgAAwInQ73NCAABAdnj5c0IAAIDIcgN0QgAAwBptDXRCAABABxUXdEIAAIBZDyF0QgAAAEa3KnRCAABAmLE0dEIAAIDqqz50QgAAgAuvR3RCAADAXalRdEIAAEBKUVt0QgAAgJxLZXRCAAAAifNudEIAAEDb7Xh0QgAAgC3ognRCAAAAGpCMdEIAAEBsipZ0QgAAwFgyoHRCAAAAqyyqdEIAAED9JrR0QgAAQB4qvXRCAACAcCTHdEIAAABdzNB0QgAAQK/G2nRCAADAm27kdEIAAADuaO50QgAAQEBj+HRCAADALAsCdUIAAAB/BQx1QgAAgGutFXVC\",\"dtype\":\"float64\",\"order\":\"little\",\"shape\":[132]},\"y\":[56,40,46,41,56,40,50,43,36,49,32,51,55,46,64,67,53,49,37,47,44,48,33,32,46,33,46,48,44,54,37,32,54,54,41,38,32,35,38,31,41,39,40,52,58,63,46,43,46,50,63,53,48,52,56,55,61,59,57,60,64,51,56,58,59,56,50,66,49,59,57,55,77,62,58,55,66,69,47,81,67,64,76,63,75,71,69,62,94,61,73,83,88,82,93,81,103,79,88,102,100,89,104,129,118,120,89,103,86,99,98,92,89,77,91,92,84,106,80,90,82,84,92,77,68,75,87,84,90,84,65,71]},\"selected\":{\"id\":\"2304\"},\"selection_policy\":{\"id\":\"2303\"}},\"id\":\"2288\",\"type\":\"ColumnDataSource\"},{\"attributes\":{\"line_alpha\":0.2,\"line_color\":\"purple\",\"line_width\":3,\"x\":{\"field\":\"x\"},\"y\":{\"field\":\"y\"}},\"id\":\"2261\",\"type\":\"Line\"},{\"attributes\":{\"source\":{\"id\":\"2288\"}},\"id\":\"2293\",\"type\":\"CDSView\"},{\"attributes\":{\"coordinates\":null,\"data_source\":{\"id\":\"2288\"},\"glyph\":{\"id\":\"2289\"},\"group\":null,\"hover_glyph\":null,\"muted_glyph\":{\"id\":\"2291\"},\"nonselection_glyph\":{\"id\":\"2290\"},\"view\":{\"id\":\"2293\"}},\"id\":\"2292\",\"type\":\"GlyphRenderer\"},{\"attributes\":{\"axis_label\":\"Year\",\"coordinates\":null,\"formatter\":{\"id\":\"2269\"},\"group\":null,\"major_label_policy\":{\"id\":\"2270\"},\"ticker\":{\"id\":\"2237\"}},\"id\":\"2236\",\"type\":\"DatetimeAxis\"},{\"attributes\":{\"line_alpha\":0.2,\"line_color\":\"blue\",\"line_width\":3,\"x\":{\"field\":\"x\"},\"y\":{\"field\":\"y\"}},\"id\":\"2291\",\"type\":\"Line\"},{\"attributes\":{},\"id\":\"2232\",\"type\":\"LinearScale\"},{\"attributes\":{\"line_alpha\":0.1,\"line_color\":\"blue\",\"line_width\":3,\"x\":{\"field\":\"x\"},\"y\":{\"field\":\"y\"}},\"id\":\"2290\",\"type\":\"Line\"},{\"attributes\":{\"axis\":{\"id\":\"2236\"},\"coordinates\":null,\"group\":null,\"ticker\":null},\"id\":\"2239\",\"type\":\"Grid\"},{\"attributes\":{\"label\":{\"value\":\"stolen_property\"},\"renderers\":[{\"id\":\"2292\"}]},\"id\":\"2318\",\"type\":\"LegendItem\"},{\"attributes\":{\"num_minor_ticks\":5,\"tickers\":[{\"id\":\"2274\"},{\"id\":\"2275\"},{\"id\":\"2276\"},{\"id\":\"2277\"},{\"id\":\"2278\"},{\"id\":\"2279\"},{\"id\":\"2280\"},{\"id\":\"2281\"},{\"id\":\"2282\"},{\"id\":\"2283\"},{\"id\":\"2284\"},{\"id\":\"2285\"}]},\"id\":\"2237\",\"type\":\"DatetimeTicker\"},{\"attributes\":{},\"id\":\"2303\",\"type\":\"UnionRenderers\"},{\"attributes\":{\"months\":[0,4,8]},\"id\":\"2283\",\"type\":\"MonthsTicker\"},{\"attributes\":{},\"id\":\"2304\",\"type\":\"Selection\"},{\"attributes\":{\"months\":[0,2,4,6,8,10]},\"id\":\"2282\",\"type\":\"MonthsTicker\"},{\"attributes\":{\"months\":[0,6]},\"id\":\"2284\",\"type\":\"MonthsTicker\"},{\"attributes\":{\"days\":[1,15]},\"id\":\"2280\",\"type\":\"DaysTicker\"},{\"attributes\":{\"days\":[1,4,7,10,13,16,19,22,25,28]},\"id\":\"2278\",\"type\":\"DaysTicker\"},{\"attributes\":{\"days\":[1,2,3,4,5,6,7,8,9,10,11,12,13,14,15,16,17,18,19,20,21,22,23,24,25,26,27,28,29,30,31]},\"id\":\"2277\",\"type\":\"DaysTicker\"},{\"attributes\":{\"base\":24,\"mantissas\":[1,2,4,6,8,12],\"max_interval\":43200000.0,\"min_interval\":3600000.0,\"num_minor_ticks\":0},\"id\":\"2276\",\"type\":\"AdaptiveTicker\"},{\"attributes\":{},\"id\":\"2285\",\"type\":\"YearsTicker\"},{\"attributes\":{\"days\":[1,8,15,22]},\"id\":\"2279\",\"type\":\"DaysTicker\"},{\"attributes\":{\"months\":[0,1,2,3,4,5,6,7,8,9,10,11]},\"id\":\"2281\",\"type\":\"MonthsTicker\"},{\"attributes\":{\"base\":60,\"mantissas\":[1,2,5,10,15,20,30],\"max_interval\":1800000.0,\"min_interval\":1000.0,\"num_minor_ticks\":0},\"id\":\"2275\",\"type\":\"AdaptiveTicker\"},{\"attributes\":{\"line_color\":\"magenta\",\"line_width\":3,\"x\":{\"field\":\"x\"},\"y\":{\"field\":\"y\"}},\"id\":\"2425\",\"type\":\"Line\"},{\"attributes\":{\"mantissas\":[1,2,5],\"max_interval\":500.0,\"num_minor_ticks\":0},\"id\":\"2274\",\"type\":\"AdaptiveTicker\"},{\"attributes\":{\"data\":{\"x\":{\"__ndarray__\":\"AAAAJLkScEIAAEB2sxxwQgAAQJe2JXBCAACA6bAvcEIAAADWWDlwQgAAQChTQ3BCAADAFPtMcEIAAABn9VZwQgAAQLnvYHBCAADApZdqcEIAAAD4kXRwQgAAgOQ5fnBCAADANjSIcEIAAACJLpJwQgAAAKoxm3BCAABA/CulcEIAAMDo065wQgAAADvOuHBCAACAJ3bCcEIAAMB5cMxwQgAAAMxq1nBCAACAuBLgcEIAAMAKDepwQgAAQPe083BCAACASa/9cEIAAMCbqQdxQgAAwLysEHFCAAAAD6cacUIAAID7TiRxQgAAwE1JLnFCAABAOvE3cUIAAICM60FxQgAAwN7lS3FCAABAy41VcUIAAIAdiF9xQgAAAAowaXFCAABAXCpzcUIAAICuJH1xQgAAQDV6hnFCAACAh3SQcUIAAAB0HJpxQgAAQMYWpHFCAADAsr6tcUIAAAAFubdxQgAAQFezwXFCAADAQ1vLcUIAAACWVdVxQgAAgIL93nFCAADA1PfocUIAAAAn8vJxQgAAAEj1+3FCAABAmu8FckIAAMCGlw9yQgAAANmRGXJCAACAxTkjckIAAMAXNC1yQgAAAGouN3JCAACAVtZAckIAAMCo0EpyQgAAQJV4VHJCAACA53JeckIAAMA5bWhyQgAAwFpwcXJCAAAArWp7ckIAAICZEoVyQgAAwOsMj3JCAABA2LSYckIAAIAqr6JyQgAAwHyprHJCAABAaVG2ckIAAIC7S8ByQgAAAKjzyXJCAABA+u3TckIAAIBM6N1yQgAAgG3r5nJCAADAv+XwckIAAECsjfpyQgAAgP6HBHNCAAAA6y8Oc0IAAEA9KhhzQgAAgI8kInNCAAAAfMwrc0IAAEDOxjVzQgAAwLpuP3NCAAAADWlJc0IAAEBfY1NzQgAAAOa4XHNCAABAOLNmc0IAAMAkW3BzQgAAAHdVenNCAACAY/2Dc0IAAMC1941zQgAAAAjyl3NCAACA9Jmhc0IAAMBGlKtzQgAAQDM8tXNCAACAhTa/c0IAAMDXMMlzQgAAwPgz0nNCAAAASy7cc0IAAIA31uVzQgAAwInQ73NCAABAdnj5c0IAAIDIcgN0QgAAwBptDXRCAABABxUXdEIAAIBZDyF0QgAAAEa3KnRCAABAmLE0dEIAAIDqqz50QgAAgAuvR3RCAADAXalRdEIAAEBKUVt0QgAAgJxLZXRCAAAAifNudEIAAEDb7Xh0QgAAgC3ognRCAAAAGpCMdEIAAEBsipZ0QgAAwFgyoHRCAAAAqyyqdEIAAED9JrR0QgAAQB4qvXRCAACAcCTHdEIAAABdzNB0QgAAQK/G2nRCAADAm27kdEIAAADuaO50QgAAQEBj+HRCAADALAsCdUIAAAB/BQx1QgAAgGutFXVC\",\"dtype\":\"float64\",\"order\":\"little\",\"shape\":[132]},\"y\":[21,17,19,24,13,23,23,20,17,18,19,17,24,13,16,19,27,14,24,24,27,27,11,14,23,12,17,20,29,21,29,16,27,18,23,11,16,12,34,20,18,20,21,24,28,18,20,17,20,17,16,18,17,15,30,19,18,14,25,13,19,9,19,16,21,22,18,22,19,21,17,6,25,19,11,23,14,13,20,17,18,14,17,12,29,16,12,18,17,21,25,17,25,18,18,21,37,23,22,11,19,20,25,17,19,21,24,10,32,22,13,18,15,25,20,20,14,24,28,22,41,31,21,30,30,31,23,16,16,28,25,19]},\"selected\":{\"id\":\"2448\"},\"selection_policy\":{\"id\":\"2447\"}},\"id\":\"2424\",\"type\":\"ColumnDataSource\"},{\"attributes\":{\"label\":{\"value\":\"arson\"},\"renderers\":[{\"id\":\"2428\"}]},\"id\":\"2462\",\"type\":\"LegendItem\"},{\"attributes\":{\"source\":{\"id\":\"2424\"}},\"id\":\"2429\",\"type\":\"CDSView\"},{\"attributes\":{\"coordinates\":null,\"data_source\":{\"id\":\"2424\"},\"glyph\":{\"id\":\"2425\"},\"group\":null,\"hover_glyph\":null,\"muted_glyph\":{\"id\":\"2427\"},\"nonselection_glyph\":{\"id\":\"2426\"},\"view\":{\"id\":\"2429\"}},\"id\":\"2428\",\"type\":\"GlyphRenderer\"},{\"attributes\":{\"line_alpha\":0.2,\"line_color\":\"magenta\",\"line_width\":3,\"x\":{\"field\":\"x\"},\"y\":{\"field\":\"y\"}},\"id\":\"2427\",\"type\":\"Line\"},{\"attributes\":{\"line_alpha\":0.1,\"line_color\":\"magenta\",\"line_width\":3,\"x\":{\"field\":\"x\"},\"y\":{\"field\":\"y\"}},\"id\":\"2426\",\"type\":\"Line\"},{\"attributes\":{\"line_color\":\"coral\",\"line_width\":3,\"x\":{\"field\":\"x\"},\"y\":{\"field\":\"y\"}},\"id\":\"2320\",\"type\":\"Line\"},{\"attributes\":{\"data\":{\"x\":{\"__ndarray__\":\"AAAAJLkScEIAAEB2sxxwQgAAQJe2JXBCAACA6bAvcEIAAADWWDlwQgAAQChTQ3BCAADAFPtMcEIAAABn9VZwQgAAQLnvYHBCAADApZdqcEIAAAD4kXRwQgAAgOQ5fnBCAADANjSIcEIAAACJLpJwQgAAAKoxm3BCAABA/CulcEIAAMDo065wQgAAADvOuHBCAACAJ3bCcEIAAMB5cMxwQgAAAMxq1nBCAACAuBLgcEIAAMAKDepwQgAAQPe083BCAACASa/9cEIAAMCbqQdxQgAAwLysEHFCAAAAD6cacUIAAID7TiRxQgAAwE1JLnFCAABAOvE3cUIAAICM60FxQgAAwN7lS3FCAABAy41VcUIAAIAdiF9xQgAAAAowaXFCAABAXCpzcUIAAICuJH1xQgAAQDV6hnFCAACAh3SQcUIAAAB0HJpxQgAAQMYWpHFCAADAsr6tcUIAAAAFubdxQgAAQFezwXFCAADAQ1vLcUIAAACWVdVxQgAAgIL93nFCAADA1PfocUIAAAAn8vJxQgAAAEj1+3FCAABAmu8FckIAAMCGlw9yQgAAANmRGXJCAACAxTkjckIAAMAXNC1yQgAAAGouN3JCAACAVtZAckIAAMCo0EpyQgAAQJV4VHJCAACA53JeckIAAMA5bWhyQgAAwFpwcXJCAAAArWp7ckIAAICZEoVyQgAAwOsMj3JCAABA2LSYckIAAIAqr6JyQgAAwHyprHJCAABAaVG2ckIAAIC7S8ByQgAAAKjzyXJCAABA+u3TckIAAIBM6N1yQgAAgG3r5nJCAADAv+XwckIAAECsjfpyQgAAgP6HBHNCAAAA6y8Oc0IAAEA9KhhzQgAAgI8kInNCAAAAfMwrc0IAAEDOxjVzQgAAwLpuP3NCAAAADWlJc0IAAEBfY1NzQgAAAOa4XHNCAABAOLNmc0IAAMAkW3BzQgAAAHdVenNCAACAY/2Dc0IAAMC1941zQgAAAAjyl3NCAACA9Jmhc0IAAMBGlKtzQgAAQDM8tXNCAACAhTa/c0IAAMDXMMlzQgAAwPgz0nNCAAAASy7cc0IAAIA31uVzQgAAwInQ73NCAABAdnj5c0IAAIDIcgN0QgAAwBptDXRCAABABxUXdEIAAIBZDyF0QgAAAEa3KnRCAABAmLE0dEIAAIDqqz50QgAAgAuvR3RCAADAXalRdEIAAEBKUVt0QgAAgJxLZXRCAAAAifNudEIAAEDb7Xh0QgAAgC3ognRCAAAAGpCMdEIAAEBsipZ0QgAAwFgyoHRCAAAAqyyqdEIAAED9JrR0QgAAQB4qvXRCAACAcCTHdEIAAABdzNB0QgAAQK/G2nRCAADAm27kdEIAAADuaO50QgAAQEBj+HRCAADALAsCdUIAAAB/BQx1QgAAgGutFXVC\",\"dtype\":\"float64\",\"order\":\"little\",\"shape\":[132]},\"y\":[698,547,654,551,622,586,691,595,531,526,511,559,527,515,576,616,621,600,656,658,562,508,585,580,501,382,426,476,426,448,509,474,385,456,482,489,434,382,470,440,458,438,500,473,542,494,523,525,441,389,499,491,441,432,475,453,415,430,437,476,421,374,404,436,492,457,432,403,385,393,382,387,442,315,374,377,406,390,378,466,467,421,475,476,471,464,475,536,523,495,522,547,482,594,584,550,507,440,519,540,508,484,534,534,568,525,517,519,618,506,563,485,485,442,499,479,457,553,462,517,495,481,513,490,568,498,490,490,467,458,457,524]},\"selected\":{\"id\":\"2272\"},\"selection_policy\":{\"id\":\"2271\"}},\"id\":\"2258\",\"type\":\"ColumnDataSource\"},{\"attributes\":{},\"id\":\"2447\",\"type\":\"UnionRenderers\"},{\"attributes\":{},\"id\":\"2448\",\"type\":\"Selection\"},{\"attributes\":{\"data\":{\"x\":{\"__ndarray__\":\"AAAAJLkScEIAAEB2sxxwQgAAQJe2JXBCAACA6bAvcEIAAADWWDlwQgAAQChTQ3BCAADAFPtMcEIAAABn9VZwQgAAQLnvYHBCAADApZdqcEIAAAD4kXRwQgAAgOQ5fnBCAADANjSIcEIAAACJLpJwQgAAAKoxm3BCAABA/CulcEIAAMDo065wQgAAADvOuHBCAACAJ3bCcEIAAMB5cMxwQgAAAMxq1nBCAACAuBLgcEIAAMAKDepwQgAAQPe083BCAACASa/9cEIAAMCbqQdxQgAAwLysEHFCAAAAD6cacUIAAID7TiRxQgAAwE1JLnFCAABAOvE3cUIAAICM60FxQgAAwN7lS3FCAABAy41VcUIAAIAdiF9xQgAAAAowaXFCAABAXCpzcUIAAICuJH1xQgAAQDV6hnFCAACAh3SQcUIAAAB0HJpxQgAAQMYWpHFCAADAsr6tcUIAAAAFubdxQgAAQFezwXFCAADAQ1vLcUIAAACWVdVxQgAAgIL93nFCAADA1PfocUIAAAAn8vJxQgAAAEj1+3FCAABAmu8FckIAAMCGlw9yQgAAANmRGXJCAACAxTkjckIAAMAXNC1yQgAAAGouN3JCAACAVtZAckIAAMCo0EpyQgAAQJV4VHJCAACA53JeckIAAMA5bWhyQgAAwFpwcXJCAAAArWp7ckIAAICZEoVyQgAAwOsMj3JCAABA2LSYckIAAIAqr6JyQgAAwHyprHJCAABAaVG2ckIAAIC7S8ByQgAAAKjzyXJCAABA+u3TckIAAIBM6N1yQgAAgG3r5nJCAADAv+XwckIAAECsjfpyQgAAgP6HBHNCAAAA6y8Oc0IAAEA9KhhzQgAAgI8kInNCAAAAfMwrc0IAAEDOxjVzQgAAwLpuP3NCAAAADWlJc0IAAEBfY1NzQgAAAOa4XHNCAABAOLNmc0IAAMAkW3BzQgAAAHdVenNCAACAY/2Dc0IAAMC1941zQgAAAAjyl3NCAACA9Jmhc0IAAMBGlKtzQgAAQDM8tXNCAACAhTa/c0IAAMDXMMlzQgAAwPgz0nNCAAAASy7cc0IAAIA31uVzQgAAwInQ73NCAABAdnj5c0IAAIDIcgN0QgAAwBptDXRCAABABxUXdEIAAIBZDyF0QgAAAEa3KnRCAABAmLE0dEIAAIDqqz50QgAAgAuvR3RCAADAXalRdEIAAEBKUVt0QgAAgJxLZXRCAAAAifNudEIAAEDb7Xh0QgAAgC3ognRCAAAAGpCMdEIAAEBsipZ0QgAAwFgyoHRCAAAAqyyqdEIAAED9JrR0QgAAQB4qvXRCAACAcCTHdEIAAABdzNB0QgAAQK/G2nRCAADAm27kdEIAAADuaO50QgAAQEBj+HRCAADALAsCdUIAAAB/BQx1QgAAgGutFXVC\",\"dtype\":\"float64\",\"order\":\"little\",\"shape\":[132]},\"y\":[1685,1366,1476,1594,1590,1394,1429,1412,1430,1774,1723,1321,609,572,565,572,547,651,673,687,570,628,604,613,523,466,511,408,376,488,633,707,692,619,544,493,519,475,527,538,510,427,460,510,579,576,444,488,545,403,459,395,402,393,438,489,433,416,436,374,366,363,352,326,271,366,388,381,403,359,398,373,339,312,465,359,375,350,274,370,454,513,451,500,428,474,451,473,455,497,600,573,548,551,580,553,523,470,455,440,503,515,495,584,699,567,453,537,517,442,528,650,641,683,650,645,496,704,566,586,606,552,626,728,825,717,633,630,628,710,639,649]},\"selected\":{\"id\":\"2337\"},\"selection_policy\":{\"id\":\"2336\"}},\"id\":\"2319\",\"type\":\"ColumnDataSource\"},{\"attributes\":{\"source\":{\"id\":\"2319\"}},\"id\":\"2324\",\"type\":\"CDSView\"},{\"attributes\":{},\"id\":\"2270\",\"type\":\"AllLabels\"},{\"attributes\":{\"coordinates\":null,\"data_source\":{\"id\":\"2319\"},\"glyph\":{\"id\":\"2320\"},\"group\":null,\"hover_glyph\":null,\"muted_glyph\":{\"id\":\"2322\"},\"nonselection_glyph\":{\"id\":\"2321\"},\"view\":{\"id\":\"2324\"}},\"id\":\"2323\",\"type\":\"GlyphRenderer\"},{\"attributes\":{\"line_alpha\":0.2,\"line_color\":\"coral\",\"line_width\":3,\"x\":{\"field\":\"x\"},\"y\":{\"field\":\"y\"}},\"id\":\"2322\",\"type\":\"Line\"},{\"attributes\":{\"line_alpha\":0.1,\"line_color\":\"coral\",\"line_width\":3,\"x\":{\"field\":\"x\"},\"y\":{\"field\":\"y\"}},\"id\":\"2321\",\"type\":\"Line\"},{\"attributes\":{\"label\":{\"value\":\"vehicle_theft\"},\"renderers\":[{\"id\":\"2323\"}]},\"id\":\"2351\",\"type\":\"LegendItem\"},{\"attributes\":{},\"id\":\"2230\",\"type\":\"DataRange1d\"},{\"attributes\":{},\"id\":\"2336\",\"type\":\"UnionRenderers\"},{\"attributes\":{},\"id\":\"2234\",\"type\":\"LinearScale\"},{\"attributes\":{},\"id\":\"2337\",\"type\":\"Selection\"},{\"attributes\":{},\"id\":\"2228\",\"type\":\"DataRange1d\"},{\"attributes\":{\"coordinates\":null,\"group\":null,\"text\":\"Category-wise crimes through Time\"},\"id\":\"2226\",\"type\":\"Title\"},{\"attributes\":{\"coordinates\":null,\"group\":null,\"items\":[{\"id\":\"2287\"},{\"id\":\"2318\"},{\"id\":\"2351\"},{\"id\":\"2386\"},{\"id\":\"2423\"},{\"id\":\"2462\"}],\"location\":\"top_left\"},\"id\":\"2286\",\"type\":\"Legend\"},{\"attributes\":{\"source\":{\"id\":\"2258\"}},\"id\":\"2263\",\"type\":\"CDSView\"},{\"attributes\":{},\"id\":\"2271\",\"type\":\"UnionRenderers\"},{\"attributes\":{},\"id\":\"2272\",\"type\":\"Selection\"},{\"attributes\":{},\"id\":\"2266\",\"type\":\"BasicTickFormatter\"},{\"attributes\":{},\"id\":\"2269\",\"type\":\"DatetimeTickFormatter\"},{\"attributes\":{\"line_color\":\"green\",\"line_width\":3,\"x\":{\"field\":\"x\"},\"y\":{\"field\":\"y\"}},\"id\":\"2353\",\"type\":\"Line\"},{\"attributes\":{},\"id\":\"2267\",\"type\":\"AllLabels\"},{\"attributes\":{\"data\":{\"x\":{\"__ndarray__\":\"AAAAJLkScEIAAEB2sxxwQgAAQJe2JXBCAACA6bAvcEIAAADWWDlwQgAAQChTQ3BCAADAFPtMcEIAAABn9VZwQgAAQLnvYHBCAADApZdqcEIAAAD4kXRwQgAAgOQ5fnBCAADANjSIcEIAAACJLpJwQgAAAKoxm3BCAABA/CulcEIAAMDo065wQgAAADvOuHBCAACAJ3bCcEIAAMB5cMxwQgAAAMxq1nBCAACAuBLgcEIAAMAKDepwQgAAQPe083BCAACASa/9cEIAAMCbqQdxQgAAwLysEHFCAAAAD6cacUIAAID7TiRxQgAAwE1JLnFCAABAOvE3cUIAAICM60FxQgAAwN7lS3FCAABAy41VcUIAAIAdiF9xQgAAAAowaXFCAABAXCpzcUIAAICuJH1xQgAAQDV6hnFCAACAh3SQcUIAAAB0HJpxQgAAQMYWpHFCAADAsr6tcUIAAAAFubdxQgAAQFezwXFCAADAQ1vLcUIAAACWVdVxQgAAgIL93nFCAADA1PfocUIAAAAn8vJxQgAAAEj1+3FCAABAmu8FckIAAMCGlw9yQgAAANmRGXJCAACAxTkjckIAAMAXNC1yQgAAAGouN3JCAACAVtZAckIAAMCo0EpyQgAAQJV4VHJCAACA53JeckIAAMA5bWhyQgAAwFpwcXJCAAAArWp7ckIAAICZEoVyQgAAwOsMj3JCAABA2LSYckIAAIAqr6JyQgAAwHyprHJCAABAaVG2ckIAAIC7S8ByQgAAAKjzyXJCAABA+u3TckIAAIBM6N1yQgAAgG3r5nJCAADAv+XwckIAAECsjfpyQgAAgP6HBHNCAAAA6y8Oc0IAAEA9KhhzQgAAgI8kInNCAAAAfMwrc0IAAEDOxjVzQgAAwLpuP3NCAAAADWlJc0IAAEBfY1NzQgAAAOa4XHNCAABAOLNmc0IAAMAkW3BzQgAAAHdVenNCAACAY/2Dc0IAAMC1941zQgAAAAjyl3NCAACA9Jmhc0IAAMBGlKtzQgAAQDM8tXNCAACAhTa/c0IAAMDXMMlzQgAAwPgz0nNCAAAASy7cc0IAAIA31uVzQgAAwInQ73NCAABAdnj5c0IAAIDIcgN0QgAAwBptDXRCAABABxUXdEIAAIBZDyF0QgAAAEa3KnRCAABAmLE0dEIAAIDqqz50QgAAgAuvR3RCAADAXalRdEIAAEBKUVt0QgAAgJxLZXRCAAAAifNudEIAAEDb7Xh0QgAAgC3ognRCAAAAGpCMdEIAAEBsipZ0QgAAwFgyoHRCAAAAqyyqdEIAAED9JrR0QgAAQB4qvXRCAACAcCTHdEIAAABdzNB0QgAAQK/G2nRCAADAm27kdEIAAADuaO50QgAAQEBj+HRCAADALAsCdUIAAAB/BQx1QgAAgGutFXVC\",\"dtype\":\"float64\",\"order\":\"little\",\"shape\":[132]},\"y\":[2038,1734,2035,1920,2181,2253,2307,2406,2197,2169,1996,2083,2351,2077,2335,2397,2344,2272,2209,2408,2296,2386,2110,2167,1979,1643,2065,2018,2125,2196,2536,2463,2391,2292,2029,2033,2162,1888,2222,2334,2169,1976,2196,2177,2224,2420,2078,1961,1932,1846,2198,2050,1988,1862,2327,2509,2310,2246,2151,2166,2116,1693,1915,1788,1933,1961,2121,2289,2180,2142,2179,2129,2109,1924,2264,2037,2214,2041,2098,2148,2077,2327,2238,2428,2201,2112,2119,2325,2559,2509,2564,2849,2978,3150,2866,2744,2932,2677,2872,2904,2710,2711,3318,3478,3604,3370,3030,2806,2941,2549,3021,3022,2828,2742,3189,3650,3266,3630,3495,3670,3715,3284,3820,3482,3846,3758,3879,3702,3430,3268,2945,2939]},\"selected\":{\"id\":\"2372\"},\"selection_policy\":{\"id\":\"2371\"}},\"id\":\"2352\",\"type\":\"ColumnDataSource\"}],\"root_ids\":[\"2225\"]},\"title\":\"Bokeh Application\",\"version\":\"2.4.3\"}};\n  const render_items = [{\"docid\":\"80742a47-32ea-4dd8-b898-88f54bd96fe2\",\"root_ids\":[\"2225\"],\"roots\":{\"2225\":\"b5441cdc-5290-48e8-8099-0ede073979fc\"}}];\n  root.Bokeh.embed.embed_items_notebook(docs_json, render_items);\n  }\n  if (root.Bokeh !== undefined) {\n    embed_document(root);\n  } else {\n    let attempts = 0;\n    const timer = setInterval(function(root) {\n      if (root.Bokeh !== undefined) {\n        clearInterval(timer);\n        embed_document(root);\n      } else {\n        attempts++;\n        if (attempts > 100) {\n          clearInterval(timer);\n          console.log(\"Bokeh: ERROR: Unable to run BokehJS code because BokehJS library is missing\");\n        }\n      }\n    }, 10, root)\n  }\n})(window);",
      "application/vnd.bokehjs_exec.v0+json": ""
     },
     "metadata": {
      "application/vnd.bokehjs_exec.v0+json": {
       "id": "2225"
      }
     },
     "output_type": "display_data"
    }
   ],
   "source": [
    "TOOLS = 'crosshair,save,pan,box_zoom,reset,wheel_zoom'\n",
    "p = figure(title=\"Category-wise crimes through Time\", y_axis_type=\"linear\",x_axis_type='datetime', tools = TOOLS)\n",
    "\n",
    "p.line(burglary['Date'], burglary.IncidntNum, legend=\"burglary\", line_color=\"purple\", line_width = 3)\n",
    "p.line(stolen_property['Date'], stolen_property.IncidntNum, legend=\"stolen_property\", line_color=\"blue\", line_width = 3)\n",
    "\n",
    "p.line(vehicle_theft['Date'], vehicle_theft.IncidntNum, legend=\"vehicle_theft\", line_color = 'coral', line_width = 3)\n",
    "\n",
    "p.line(larceny['Date'], larceny.IncidntNum, legend=\"larceny\", line_color='green', line_width = 3)\n",
    "\n",
    "p.line(vandalism['Date'], vandalism.IncidntNum, legend=\"vandalism\", line_color=\"gold\", line_width = 3)\n",
    "\n",
    "p.line(arson['Date'], arson.IncidntNum, legend=\"arson\", line_color=\"magenta\",line_width = 3)\n",
    "\n",
    "p.legend.location = \"top_left\"\n",
    "\n",
    "p.xaxis.axis_label = 'Year'\n",
    "p.yaxis.axis_label = 'Count'\n",
    "\n",
    "output_file(\"multiline_plot.html\", title=\"Multi Line Plot\")\n",
    "\n",
    "show(p)  # open a browser"
   ]
  }
 ],
 "metadata": {
  "anaconda-cloud": {},
  "kernelspec": {
   "display_name": "Python 3.10.6 64-bit (microsoft store)",
   "language": "python",
   "name": "python3"
  },
  "language_info": {
   "codemirror_mode": {
    "name": "ipython",
    "version": 3
   },
   "file_extension": ".py",
   "mimetype": "text/x-python",
   "name": "python",
   "nbconvert_exporter": "python",
   "pygments_lexer": "ipython3",
   "version": "3.10.6"
  },
  "vscode": {
   "interpreter": {
    "hash": "350cf4f6eb5618ccce9ca3329803b4ab17690d853eb8834f54bc7fd60823462f"
   }
  }
 },
 "nbformat": 4,
 "nbformat_minor": 2
}
